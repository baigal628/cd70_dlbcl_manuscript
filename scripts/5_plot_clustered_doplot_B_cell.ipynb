{
 "cells": [
  {
   "cell_type": "code",
   "execution_count": 71,
   "id": "3af31f0c",
   "metadata": {},
   "outputs": [],
   "source": [
    "set.seed(123)"
   ]
  },
  {
   "cell_type": "code",
   "execution_count": 72,
   "id": "ea2ea4e4",
   "metadata": {
    "scrolled": true
   },
   "outputs": [
    {
     "data": {
      "text/html": [
       "'/liulab/galib/dlbcl_manuscript'"
      ],
      "text/latex": [
       "'/liulab/galib/dlbcl\\_manuscript'"
      ],
      "text/markdown": [
       "'/liulab/galib/dlbcl_manuscript'"
      ],
      "text/plain": [
       "[1] \"/liulab/galib/dlbcl_manuscript\""
      ]
     },
     "metadata": {},
     "output_type": "display_data"
    },
    {
     "data": {
      "text/html": [
       "<style>\n",
       ".list-inline {list-style: none; margin:0; padding: 0}\n",
       ".list-inline>li {display: inline-block}\n",
       ".list-inline>li:not(:last-child)::after {content: \"\\00b7\"; padding: 0 .5ex}\n",
       "</style>\n",
       "<ol class=list-inline><li>'#FF00FF'</li><li>'#F400F4'</li><li>'#EA00EA'</li><li>'#DF00DF'</li><li>'#D500D5'</li><li>'#CA00CA'</li><li>'#BF00BF'</li><li>'#B500B5'</li><li>'#AA00AA'</li><li>'#9F009F'</li><li>'#950095'</li><li>'#8A008A'</li><li>'#800080'</li><li>'#750075'</li><li>'#6A006A'</li><li>'#600060'</li><li>'#550055'</li><li>'#4A004A'</li><li>'#400040'</li><li>'#350035'</li><li>'#2B002B'</li><li>'#200020'</li><li>'#150015'</li><li>'#0B000B'</li><li>'#000000'</li><li>'#000000'</li><li>'#0B0B00'</li><li>'#151500'</li><li>'#202000'</li><li>'#2B2B00'</li><li>'#353500'</li><li>'#404000'</li><li>'#4A4A00'</li><li>'#555500'</li><li>'#606000'</li><li>'#6A6A00'</li><li>'#757500'</li><li>'#808000'</li><li>'#8A8A00'</li><li>'#959500'</li><li>'#9F9F00'</li><li>'#AAAA00'</li><li>'#B5B500'</li><li>'#BFBF00'</li><li>'#CACA00'</li><li>'#D4D400'</li><li>'#DFDF00'</li><li>'#EAEA00'</li><li>'#F4F400'</li><li>'#FFFF00'</li></ol>\n"
      ],
      "text/latex": [
       "\\begin{enumerate*}\n",
       "\\item '\\#FF00FF'\n",
       "\\item '\\#F400F4'\n",
       "\\item '\\#EA00EA'\n",
       "\\item '\\#DF00DF'\n",
       "\\item '\\#D500D5'\n",
       "\\item '\\#CA00CA'\n",
       "\\item '\\#BF00BF'\n",
       "\\item '\\#B500B5'\n",
       "\\item '\\#AA00AA'\n",
       "\\item '\\#9F009F'\n",
       "\\item '\\#950095'\n",
       "\\item '\\#8A008A'\n",
       "\\item '\\#800080'\n",
       "\\item '\\#750075'\n",
       "\\item '\\#6A006A'\n",
       "\\item '\\#600060'\n",
       "\\item '\\#550055'\n",
       "\\item '\\#4A004A'\n",
       "\\item '\\#400040'\n",
       "\\item '\\#350035'\n",
       "\\item '\\#2B002B'\n",
       "\\item '\\#200020'\n",
       "\\item '\\#150015'\n",
       "\\item '\\#0B000B'\n",
       "\\item '\\#000000'\n",
       "\\item '\\#000000'\n",
       "\\item '\\#0B0B00'\n",
       "\\item '\\#151500'\n",
       "\\item '\\#202000'\n",
       "\\item '\\#2B2B00'\n",
       "\\item '\\#353500'\n",
       "\\item '\\#404000'\n",
       "\\item '\\#4A4A00'\n",
       "\\item '\\#555500'\n",
       "\\item '\\#606000'\n",
       "\\item '\\#6A6A00'\n",
       "\\item '\\#757500'\n",
       "\\item '\\#808000'\n",
       "\\item '\\#8A8A00'\n",
       "\\item '\\#959500'\n",
       "\\item '\\#9F9F00'\n",
       "\\item '\\#AAAA00'\n",
       "\\item '\\#B5B500'\n",
       "\\item '\\#BFBF00'\n",
       "\\item '\\#CACA00'\n",
       "\\item '\\#D4D400'\n",
       "\\item '\\#DFDF00'\n",
       "\\item '\\#EAEA00'\n",
       "\\item '\\#F4F400'\n",
       "\\item '\\#FFFF00'\n",
       "\\end{enumerate*}\n"
      ],
      "text/markdown": [
       "1. '#FF00FF'\n",
       "2. '#F400F4'\n",
       "3. '#EA00EA'\n",
       "4. '#DF00DF'\n",
       "5. '#D500D5'\n",
       "6. '#CA00CA'\n",
       "7. '#BF00BF'\n",
       "8. '#B500B5'\n",
       "9. '#AA00AA'\n",
       "10. '#9F009F'\n",
       "11. '#950095'\n",
       "12. '#8A008A'\n",
       "13. '#800080'\n",
       "14. '#750075'\n",
       "15. '#6A006A'\n",
       "16. '#600060'\n",
       "17. '#550055'\n",
       "18. '#4A004A'\n",
       "19. '#400040'\n",
       "20. '#350035'\n",
       "21. '#2B002B'\n",
       "22. '#200020'\n",
       "23. '#150015'\n",
       "24. '#0B000B'\n",
       "25. '#000000'\n",
       "26. '#000000'\n",
       "27. '#0B0B00'\n",
       "28. '#151500'\n",
       "29. '#202000'\n",
       "30. '#2B2B00'\n",
       "31. '#353500'\n",
       "32. '#404000'\n",
       "33. '#4A4A00'\n",
       "34. '#555500'\n",
       "35. '#606000'\n",
       "36. '#6A6A00'\n",
       "37. '#757500'\n",
       "38. '#808000'\n",
       "39. '#8A8A00'\n",
       "40. '#959500'\n",
       "41. '#9F9F00'\n",
       "42. '#AAAA00'\n",
       "43. '#B5B500'\n",
       "44. '#BFBF00'\n",
       "45. '#CACA00'\n",
       "46. '#D4D400'\n",
       "47. '#DFDF00'\n",
       "48. '#EAEA00'\n",
       "49. '#F4F400'\n",
       "50. '#FFFF00'\n",
       "\n",
       "\n"
      ],
      "text/plain": [
       " [1] \"#FF00FF\" \"#F400F4\" \"#EA00EA\" \"#DF00DF\" \"#D500D5\" \"#CA00CA\" \"#BF00BF\"\n",
       " [8] \"#B500B5\" \"#AA00AA\" \"#9F009F\" \"#950095\" \"#8A008A\" \"#800080\" \"#750075\"\n",
       "[15] \"#6A006A\" \"#600060\" \"#550055\" \"#4A004A\" \"#400040\" \"#350035\" \"#2B002B\"\n",
       "[22] \"#200020\" \"#150015\" \"#0B000B\" \"#000000\" \"#000000\" \"#0B0B00\" \"#151500\"\n",
       "[29] \"#202000\" \"#2B2B00\" \"#353500\" \"#404000\" \"#4A4A00\" \"#555500\" \"#606000\"\n",
       "[36] \"#6A6A00\" \"#757500\" \"#808000\" \"#8A8A00\" \"#959500\" \"#9F9F00\" \"#AAAA00\"\n",
       "[43] \"#B5B500\" \"#BFBF00\" \"#CACA00\" \"#D4D400\" \"#DFDF00\" \"#EAEA00\" \"#F4F400\"\n",
       "[50] \"#FFFF00\""
      ]
     },
     "metadata": {},
     "output_type": "display_data"
    }
   ],
   "source": [
    "getwd()\n",
    "setwd(\"/liulab/galib/dlbcl_manuscript/\")\n",
    "library(rBCS)\n",
    "library(tidyverse)\n",
    "library(Seurat)\n",
    "library(harmony)\n",
    "library(viridis)\n",
    "library(RColorBrewer)\n",
    "library(Polychrome)\n",
    "PurpleAndYellow()\n",
    "library(ComplexHeatmap)\n",
    "library(devtools)\n",
    "library(presto)\n",
    "library(dplyr)\n",
    "library(ggplot2)\n",
    "library(ggpubr)\n",
    "library(readxl)\n",
    "source(\"./scripts/scplot.R\")"
   ]
  },
  {
   "cell_type": "code",
   "execution_count": 11,
   "id": "f94225d4",
   "metadata": {
    "scrolled": true
   },
   "outputs": [],
   "source": [
    "B_cell<- readRDS(\"./data/objects/B_cell_final.rds\")"
   ]
  },
  {
   "cell_type": "code",
   "execution_count": 73,
   "id": "c4334e1b",
   "metadata": {},
   "outputs": [],
   "source": [
    "legend_dot_size = unit(2,\"mm\")\n",
    "\n",
    "lgd = Legend(labels = c(0, 10, 25, 50, 75, 100),\n",
    "           title = \"percentage\",\n",
    "           type = \"points\",\n",
    "        graphics = list(\n",
    "    function(x, y, w, h) grid.circle(x, y, r= sqrt(0/100) * legend_dot_size,\n",
    "                                    gp = gpar(fill = \"black\")),\n",
    "    function(x, y, w, h) grid.circle(x, y, r= sqrt(10/100) * legend_dot_size,\n",
    "                                    gp = gpar(fill = \"black\")),\n",
    "    function(x, y, w, h) grid.circle(x, y, r= sqrt(25/100) * legend_dot_size,\n",
    "                                    gp = gpar(fill = \"black\")),\n",
    "    function(x, y, w, h) grid.circle(x, y, r= sqrt(50/100) * legend_dot_size,\n",
    "                                    gp = gpar(fill = \"black\")),\n",
    "    function(x, y, w, h) grid.circle(x, y, r= sqrt(75/100) * legend_dot_size,\n",
    "                                    gp = gpar(fill = \"black\")),\n",
    "    function(x, y, w, h) grid.circle(x, y, r= sqrt(100/100) * legend_dot_size,\n",
    "                                    gp = gpar(fill = \"black\"))            \n",
    "            )\n",
    "     )"
   ]
  },
  {
   "cell_type": "markdown",
   "id": "a72e6f97",
   "metadata": {},
   "source": [
    "## B_cell space"
   ]
  },
  {
   "cell_type": "code",
   "execution_count": 75,
   "id": "357386a6",
   "metadata": {},
   "outputs": [
    {
     "name": "stderr",
     "output_type": "stream",
     "text": [
      "\u001b[1mRows: \u001b[22m\u001b[34m115\u001b[39m \u001b[1mColumns: \u001b[22m\u001b[34m1\u001b[39m\n",
      "\u001b[36m──\u001b[39m \u001b[1mColumn specification\u001b[22m \u001b[36m────────────────────────────────────────────────────────\u001b[39m\n",
      "\u001b[1mDelimiter:\u001b[22m \"\\t\"\n",
      "\u001b[31mchr\u001b[39m (1): X1\n",
      "\n",
      "\u001b[36mℹ\u001b[39m Use `spec()` to retrieve the full column specification for this data.\n",
      "\u001b[36mℹ\u001b[39m Specify the column types or set `show_col_types = FALSE` to quiet this message.\n"
     ]
    },
    {
     "data": {
      "text/html": [],
      "text/latex": [],
      "text/markdown": [],
      "text/plain": [
       "character(0)"
      ]
     },
     "metadata": {},
     "output_type": "display_data"
    }
   ],
   "source": [
    "B_cell_genes<- read_tsv(\"./data/B_cell_genes_to_plot.tsv\", col_names = FALSE)  %>% \n",
    "    pull(X1)\n",
    "\n",
    "B_cell_genes<- str_to_title(B_cell_genes)\n",
    "B_cell_genes<- B_cell_genes  %>% gsub(pattern = \"Aw\", replacement = \"AW\")\n",
    "B_cell_genes<- B_cell_genes  %>% gsub(pattern = 'C130026l21rik', replacement = 'C130026L21Rik')\n",
    "B_cell_genes<- B_cell_genes  %>% gsub(pattern = 'D10wsu102e', replacement = 'D10Wsu102e')\n",
    "B_cell_genes<- B_cell_genes  %>% gsub(pattern = 'Ighg2', replacement = 'Ighg2b')\n",
    "B_cell_genes<- B_cell_genes  %>% gsub(pattern = 'Cd21', replacement = 'Cr2')\n",
    "B_cell_genes<- B_cell_genes  %>% gsub(pattern = 'Ac133103.1', replacement = 'Sp140')\n",
    "B_cell_genes<- B_cell_genes  %>% gsub(pattern = 'Tubb', replacement = 'Tubb5')\n",
    "B_cell_genes<- B_cell_genes  %>% gsub(pattern = 'Igkv 16-104', replacement = 'Igkv16-104')\n",
    "B_cell_genes<- B_cell_genes  %>% gsub(pattern = 'Ighv 1-52', replacement = 'Ighv1-52')\n",
    "B_cell_genes<- B_cell_genes  %>% gsub(pattern = 'Ighv 1-52', replacement = 'Ighv1-52')\n",
    "B_cell_genes<- B_cell_genes  %>% gsub(pattern = 'Pdcd2l2', replacement = 'Pdcd2l')\n",
    "\n",
    "B_cell_genes[!B_cell_genes %in% rownames(B_cell)]\n",
    "\n",
    "B_cell_genes<- B_cell_genes  %>% unique()"
   ]
  },
  {
   "cell_type": "code",
   "execution_count": 91,
   "id": "84eba891",
   "metadata": {},
   "outputs": [],
   "source": [
    "B_cell_col<- B_cell@meta.data  %>% select(new_annotation, HEX_code)  %>% distinct()\n",
    "B_cell_cluster_order<- c(8,7,4,5,1,22,18,21,19,16,3,27,2,17,25,11,10,14,6,13,12,24,23,20,9,0,15)\n",
    "B_cell$seurat_clusters<- factor(B_cell$seurat_clusters, levels = B_cell_cluster_order)\n",
    "cluster_id<- B_cell@meta.data  %>% arrange(seurat_clusters)  %>% distinct(new_annotation)  %>% pull(new_annotation)\n",
    "B_cell_colors<- B_cell@meta.data  %>% arrange(seurat_clusters)  %>% distinct(HEX_code)  %>% pull(HEX_code)"
   ]
  },
  {
   "cell_type": "markdown",
   "id": "cbdcb746",
   "metadata": {},
   "source": [
    "### All samples"
   ]
  },
  {
   "cell_type": "code",
   "execution_count": 87,
   "id": "4423760d",
   "metadata": {},
   "outputs": [
    {
     "name": "stderr",
     "output_type": "stream",
     "text": [
      "Warning message in grid.newpage():\n",
      "“Cannot open temporary file '/tmp/RtmpDep6LW/pdf3f7c33543413c' for compression (reason: No such file or directory); compression has been turned off for this device”\n"
     ]
    },
    {
     "data": {
      "text/html": [
       "<strong>png:</strong> 2"
      ],
      "text/latex": [
       "\\textbf{png:} 2"
      ],
      "text/markdown": [
       "**png:** 2"
      ],
      "text/plain": [
       "png \n",
       "  2 "
      ]
     },
     "metadata": {},
     "output_type": "display_data"
    }
   ],
   "source": [
    "B_cell_mtx<- GetMatrixFromSeurat(B_cell, B_cell_genes, group = \"new_annotation\")\n",
    "\n",
    "column_ha <- HeatmapAnnotation(foo = anno_text(gsub(\"_.*\", \"\", cluster_id), location = 0.5, just = \"center\", \n",
    "                    gp = gpar(fill = setNames(B_cell_colors, gsub(\"_.*\", \"\", cluster_id)), \n",
    "                              col = \"white\", border = NA)), show_annotation_name = FALSE, show_legend = FALSE)\n",
    "\n",
    "col_fun = circlize::colorRamp2(c(-2,0,2), viridis::viridis(3))\n",
    "\n",
    "p_main<- MakeClusterDotPlot(exp_mat = B_cell_mtx$exp_mat, \n",
    "                       percent_mat = B_cell_mtx$percent_mat,\n",
    "                       cluster_id = cluster_id,\n",
    "                       column_ha = column_ha, \n",
    "                       col_fun = col_fun,\n",
    "                       column_title_side = \"bottom\",\n",
    "                       column_title = \"B cell Space\", \n",
    "                       row_km = 6,\n",
    "                       row_names_font_size = 8, \n",
    "                       legend_dot_size = unit(2, \"mm\"),\n",
    "                       column_names_side = \"top\",\n",
    "                       show_column_dend = FALSE,\n",
    "                       show_row_dend = FALSE, \n",
    "                       cluster_columns = TRUE)\n",
    "\n",
    "pdf(\"results/figures/5_B_cell_dotplot_final_annotation_clustering_columns.pdf\", width = 7, height = 16)\n",
    "set.seed(123)\n",
    "ht = draw(p_main, annotation_legend_list = lgd)\n",
    "\n",
    "dev.off()"
   ]
  },
  {
   "cell_type": "code",
   "execution_count": 92,
   "id": "04145fc6",
   "metadata": {},
   "outputs": [
    {
     "name": "stderr",
     "output_type": "stream",
     "text": [
      "Warning message in grid.newpage():\n",
      "“Cannot open temporary file '/tmp/RtmpDep6LW/pdf3f7c36b53ff10' for compression (reason: No such file or directory); compression has been turned off for this device”\n"
     ]
    },
    {
     "data": {
      "text/html": [
       "<strong>png:</strong> 2"
      ],
      "text/latex": [
       "\\textbf{png:} 2"
      ],
      "text/markdown": [
       "**png:** 2"
      ],
      "text/plain": [
       "png \n",
       "  2 "
      ]
     },
     "metadata": {},
     "output_type": "display_data"
    }
   ],
   "source": [
    "B_cell_mtx<- GetMatrixFromSeurat(B_cell, B_cell_genes, group = \"new_annotation\")\n",
    "\n",
    "column_ha <- HeatmapAnnotation(foo = anno_text(gsub(\"_.*\", \"\", cluster_id), location = 0.5, just = \"center\", \n",
    "                    gp = gpar(fill = setNames(B_cell_colors, gsub(\"_.*\", \"\", cluster_id)), \n",
    "                              col = \"white\", border = NA)), show_annotation_name = FALSE, show_legend = FALSE)\n",
    "\n",
    "col_fun = circlize::colorRamp2(c(-2,0,2), viridis::viridis(3))\n",
    "\n",
    "p_main<- MakeClusterDotPlot(exp_mat = B_cell_mtx$exp_mat, \n",
    "                       percent_mat = B_cell_mtx$percent_mat,\n",
    "                       cluster_id = cluster_id,\n",
    "                       column_ha = column_ha, \n",
    "                       col_fun = col_fun,\n",
    "                       column_title_side = \"bottom\",\n",
    "                       column_title = \"B cell Space\", \n",
    "                       row_km = 6,\n",
    "                       row_names_font_size = 8, \n",
    "                       legend_dot_size = unit(2, \"mm\"),\n",
    "                       column_names_side = \"top\",\n",
    "                       show_column_dend = FALSE,\n",
    "                       show_row_dend = FALSE, \n",
    "                       cluster_columns = FALSE)\n",
    "\n",
    "pdf(\"results/figures/5_B_cell_dotplot_final_annotation_no_clustering_columns.pdf\", width = 7, height = 16)\n",
    "set.seed(123)\n",
    "ht = draw(p_main, annotation_legend_list = lgd)\n",
    "\n",
    "dev.off()"
   ]
  },
  {
   "cell_type": "code",
   "execution_count": 90,
   "id": "d7f18927",
   "metadata": {},
   "outputs": [
    {
     "name": "stderr",
     "output_type": "stream",
     "text": [
      "Warning message in grid.newpage():\n",
      "“Cannot open temporary file '/tmp/RtmpDep6LW/pdf3f7c3358b4442' for compression (reason: No such file or directory); compression has been turned off for this device”\n"
     ]
    },
    {
     "data": {
      "text/html": [
       "<strong>png:</strong> 2"
      ],
      "text/latex": [
       "\\textbf{png:} 2"
      ],
      "text/markdown": [
       "**png:** 2"
      ],
      "text/plain": [
       "png \n",
       "  2 "
      ]
     },
     "metadata": {},
     "output_type": "display_data"
    }
   ],
   "source": [
    "B_cell_mtx<- GetMatrixFromSeurat(B_cell, B_cell_genes, group = \"new_annotation\")\n",
    "gene_order = data.frame(gene_rank  = apply(B_cell_mtx$exp_mat[,cluster_id], 1, which.max), \n",
    "                        gene_expr = apply(B_cell_mtx$exp_mat[,cluster_id], 1, max))  %>% \n",
    "            arrange(gene_rank, -gene_expr)  %>% \n",
    "            rownames()\n",
    "\n",
    "column_ha <- HeatmapAnnotation(foo = anno_text(gsub(\"_.*\", \"\", cluster_id), location = 0.5, just = \"center\", \n",
    "                    gp = gpar(fill = setNames(B_cell_colors, gsub(\"_.*\", \"\", cluster_id)), \n",
    "                              col = \"white\", border = NA)), show_annotation_name = FALSE, show_legend = FALSE)\n",
    "\n",
    "col_fun = circlize::colorRamp2(c(-2,0,2), viridis::viridis(3))\n",
    "\n",
    "p_main<- MakeClusterDotPlot(exp_mat = B_cell_mtx$exp_mat[gene_order,], \n",
    "                       percent_mat = B_cell_mtx$percent_mat[gene_order,],\n",
    "                       cluster_id = cluster_id,\n",
    "                       column_ha = column_ha, \n",
    "                       col_fun = col_fun,\n",
    "                       column_title_side = \"bottom\",\n",
    "                       column_title = \"B cell Space\", \n",
    "                       row_names_font_size = 8, \n",
    "                       legend_dot_size = unit(2, \"mm\"),\n",
    "                       column_names_side = \"top\",\n",
    "                       show_column_dend = FALSE,\n",
    "                       show_row_dend = FALSE, \n",
    "                       cluster_rows=FALSE, cluster_columns = FALSE)\n",
    "\n",
    "pdf(\"results/figures/5_B_cell_dotplot_final_annotation_alternative_gene_ranking.pdf\", width = 7, height = 16)\n",
    "set.seed(123)\n",
    "ht = draw(p_main, annotation_legend_list = lgd)\n",
    "\n",
    "dev.off()"
   ]
  },
  {
   "cell_type": "markdown",
   "id": "1df28809",
   "metadata": {},
   "source": [
    "### Dotplot by genotype"
   ]
  },
  {
   "cell_type": "code",
   "execution_count": 16,
   "id": "c743cad1",
   "metadata": {},
   "outputs": [],
   "source": [
    "B_cell_genes = B_cell_genes[row_order(ht)  %>%  unlist(use.names = FALSE)]"
   ]
  },
  {
   "cell_type": "code",
   "execution_count": 17,
   "id": "08751c18",
   "metadata": {},
   "outputs": [
    {
     "name": "stdout",
     "output_type": "stream",
     "text": [
      "[1] 27\n",
      "[1] 27\n",
      "[1] 27\n",
      "[1] 27\n",
      "[1] 27\n"
     ]
    },
    {
     "data": {
      "text/html": [
       "108"
      ],
      "text/latex": [
       "108"
      ],
      "text/markdown": [
       "108"
      ],
      "text/plain": [
       "[1] 108"
      ]
     },
     "metadata": {},
     "output_type": "display_data"
    }
   ],
   "source": [
    "WT_cells<- rownames(B_cell@meta.data  %>% filter(genotype == \"WT\"))\n",
    "cd70_cells<- rownames(B_cell@meta.data  %>% filter(genotype == \"CD70-/-\"))\n",
    "single_cells<- rownames(B_cell@meta.data  %>% filter(genotype == \"Bcl6tg/+\"))\n",
    "double_cells<- rownames(B_cell@meta.data  %>% filter(genotype == \"CD70-/-;Bcl6tg/+\"))\n",
    "\n",
    "B_cell_mtx<- GetMatrixFromSeurat2(B_cell, B_cell_genes, \n",
    "                                          group = \"new_annotation\")\n",
    "\n",
    "B_cell_mtx_WT<- GetMatrixFromSeurat2(B_cell[,WT_cells], B_cell_genes, \n",
    "                                          group = \"new_annotation\")\n",
    "\n",
    "B_cell_mtx_cd70<- GetMatrixFromSeurat2(B_cell[,cd70_cells], B_cell_genes, \n",
    "                                          group = \"new_annotation\")\n",
    "\n",
    "B_cell_mtx_single<- GetMatrixFromSeurat2(B_cell[,single_cells], B_cell_genes, \n",
    "                                          group = \"new_annotation\")\n",
    "\n",
    "B_cell_mtx_double<- GetMatrixFromSeurat2(B_cell[,double_cells], B_cell_genes, \n",
    "                                          group = \"new_annotation\")\n",
    "\n",
    "B_cell_combined<- cbind(B_cell_mtx_WT$exp_mat, B_cell_mtx_cd70$exp_mat, \n",
    "                                 B_cell_mtx_single$exp_mat, B_cell_mtx_double$exp_mat)\n",
    "\n",
    "B_cell_combined_scaled<- t(apply(B_cell_combined, 1, scale))\n",
    "B_cell_combined_scaled<- B_cell_combined_scaled  %>% replace(is.na(.),0)\n",
    "# B_cell_combined_scaled = B_cell_combined_scaled[row_order(ht)  %>%  unlist(use.names = FALSE), ]\n",
    "\n",
    "ncol(B_cell_combined_scaled)\n",
    "\n",
    "B_cell_mtx_WT_scaled<-  B_cell_combined_scaled[, 1:27]\n",
    "B_cell_mtx_cd70_scaled<-  B_cell_combined_scaled[, 28:54]\n",
    "B_cell_mtx_single_scaled<-  B_cell_combined_scaled[, 55:81]\n",
    "B_cell_mtx_double_scaled<-  B_cell_combined_scaled[, 82:108]\n",
    "\n",
    "colnames(B_cell_mtx_WT_scaled)<- colnames(B_cell_mtx$exp_mat)\n",
    "colnames(B_cell_mtx_cd70_scaled)<- colnames(B_cell_mtx$exp_mat)\n",
    "colnames(B_cell_mtx_single_scaled)<- colnames(B_cell_mtx$exp_mat)\n",
    "colnames(B_cell_mtx_double_scaled)<- colnames(B_cell_mtx$exp_mat)\n",
    "\n",
    "column_ha <- HeatmapAnnotation(foo = anno_text(gsub(\"_.*\", \"\", cluster_id), \n",
    "                                               location = 0.5, just = \"center\", \n",
    "                                               gp = gpar(fill = setNames(B_cell_colors, \n",
    "                                                                         gsub(\"_.*\", \"\", cluster_id)), \n",
    "                                                         col = \"white\", border = NA)), \n",
    "                               show_annotation_name = FALSE, show_legend = FALSE)\n",
    "\n",
    "col_fun = circlize::colorRamp2(c(-2,0,2), viridis::viridis(3))"
   ]
  },
  {
   "cell_type": "code",
   "execution_count": 18,
   "id": "5f34fdcb",
   "metadata": {},
   "outputs": [
    {
     "data": {
      "text/html": [
       "<strong>png:</strong> 2"
      ],
      "text/latex": [
       "\\textbf{png:} 2"
      ],
      "text/markdown": [
       "**png:** 2"
      ],
      "text/plain": [
       "png \n",
       "  2 "
      ]
     },
     "metadata": {},
     "output_type": "display_data"
    }
   ],
   "source": [
    "row_split = factor(rep(names(row_order(ht)), lengths(row_order(ht))), levels = names(row_order(ht)))\n",
    "pdf(\"./results/figures/5_B_cell_dotplot_final_annotation_by_genotype.pdf\", width = 30, height = 16)\n",
    "\n",
    "hp1<- MakeClusterDotPlot(exp_mat = B_cell_mtx_WT_scaled, \n",
    "               percent_mat = B_cell_mtx_WT$percent_mat, \n",
    "               col_fun = col_fun,\n",
    "               cluster_id = cluster_id,              \n",
    "               column_title = \"WT\",\n",
    "               column_title_side = \"bottom\",\n",
    "               row_split = row_split,\n",
    "               row_names_font_size = 8, \n",
    "               column_ha = column_ha,\n",
    "               legend_dot_size = unit(2, \"mm\"),\n",
    "               show_row_dend =FALSE,\n",
    "               show_column_dend = FALSE,\n",
    "               column_names_side = \"top\",\n",
    "               cluster_rows = FALSE,\n",
    "               cluster_columns = FALSE)\n",
    "\n",
    "hp2<- MakeClusterDotPlot(exp_mat = B_cell_mtx_cd70_scaled, \n",
    "               percent_mat = B_cell_mtx_cd70$percent_mat, \n",
    "               col_fun = col_fun, cluster_id = cluster_id,\n",
    "               column_title = \"CD70-/-\",\n",
    "               column_title_side = \"bottom\",\n",
    "               row_split = row_split,\n",
    "               row_names_font_size = 8, \n",
    "               column_ha = column_ha,\n",
    "               legend_dot_size = unit(2, \"mm\"),\n",
    "               cluster_rows = FALSE,\n",
    "               column_names_side = \"top\",  cluster_columns = FALSE)\n",
    "\n",
    "hp3<- MakeClusterDotPlot(exp_mat = B_cell_mtx_single_scaled, \n",
    "               percent_mat = B_cell_mtx_single$percent_mat, \n",
    "               col_fun = col_fun, cluster_id = cluster_id,\n",
    "               column_title = \"Bcl6tg/+\",\n",
    "               column_title_side = \"bottom\",         \n",
    "               row_split = row_split,\n",
    "               row_names_font_size = 8, \n",
    "               column_ha = column_ha,\n",
    "               legend_dot_size = unit(2, \"mm\"),\n",
    "               cluster_rows = FALSE,\n",
    "               column_names_side = \"top\",  cluster_columns = FALSE)\n",
    "\n",
    "hp4<- MakeClusterDotPlot(exp_mat = B_cell_mtx_double_scaled, \n",
    "               percent_mat = B_cell_mtx_double$percent_mat, \n",
    "               col_fun = col_fun, cluster_id = cluster_id,\n",
    "               column_title = \"CD70-/-;Bcl6tg/+\",\n",
    "               column_title_side = \"bottom\",       \n",
    "               row_split = row_split,\n",
    "               row_names_font_size = 8, \n",
    "               column_ha = column_ha,\n",
    "               legend_dot_size = unit(2, \"mm\"),\n",
    "               cluster_rows = FALSE,\n",
    "               column_names_side = \"top\",  cluster_columns = FALSE)\n",
    "\n",
    "draw(hp1 + hp2 + hp3 + hp4 , annotation_legend_list = lgd, ht_gap = unit(1, \"cm\") )\n",
    "\n",
    "dev.off()"
   ]
  },
  {
   "cell_type": "markdown",
   "id": "595105ca",
   "metadata": {},
   "source": [
    "### Dotplot by age"
   ]
  },
  {
   "cell_type": "code",
   "execution_count": 19,
   "id": "75595616",
   "metadata": {},
   "outputs": [
    {
     "name": "stdout",
     "output_type": "stream",
     "text": [
      "[1] 27\n",
      "[1] 27\n",
      "[1] 27\n",
      "[1] 27\n",
      "[1] 27\n"
     ]
    },
    {
     "data": {
      "text/html": [
       "108"
      ],
      "text/latex": [
       "108"
      ],
      "text/markdown": [
       "108"
      ],
      "text/plain": [
       "[1] 108"
      ]
     },
     "metadata": {},
     "output_type": "display_data"
    }
   ],
   "source": [
    "n_6mos_cells<- rownames(B_cell@meta.data  %>% filter(age == \"6mos\"))\n",
    "n_14mos_cells<- rownames(B_cell@meta.data  %>% filter(age == \"14mos\"))\n",
    "n_18mos_cells<- rownames(B_cell@meta.data  %>% filter(age == \"18mos\"))\n",
    "sick_cells<- rownames(B_cell@meta.data  %>% filter(age == \"sick\"))\n",
    "\n",
    "B_cell_mtx<- GetMatrixFromSeurat2(B_cell, B_cell_genes, \n",
    "                                          group = \"new_annotation\")\n",
    "\n",
    "B_cell_mtx_6mos<- GetMatrixFromSeurat2(B_cell[,n_6mos_cells], B_cell_genes, \n",
    "                                          group = \"new_annotation\")\n",
    "\n",
    "B_cell_mtx_14mos<- GetMatrixFromSeurat2(B_cell[,n_14mos_cells], B_cell_genes, \n",
    "                                          group = \"new_annotation\")\n",
    "\n",
    "B_cell_mtx_18mos<- GetMatrixFromSeurat2(B_cell[,n_18mos_cells], B_cell_genes, \n",
    "                                          group = \"new_annotation\")\n",
    "\n",
    "B_cell_mtx_sick<- GetMatrixFromSeurat2(B_cell[,sick_cells], B_cell_genes, \n",
    "                                          group = \"new_annotation\")\n",
    "\n",
    "B_cell_combined<- cbind(B_cell_mtx_6mos$exp_mat, B_cell_mtx_14mos$exp_mat, \n",
    "                                 B_cell_mtx_18mos$exp_mat, B_cell_mtx_sick$exp_mat)\n",
    "\n",
    "B_cell_combined_scaled<- t(apply(B_cell_combined, 1, scale))\n",
    "B_cell_combined_scaled<- B_cell_combined_scaled  %>% replace(is.na(.),0)\n",
    "# B_cell_combined_scaled = B_cell_combined_scaled[row_order(ht)  %>%  unlist(use.names = FALSE), ]\n",
    "\n",
    "\n",
    "ncol(B_cell_combined_scaled)\n",
    "B_cell_mtx_6mos_scaled<-  B_cell_combined_scaled[, 1:27]\n",
    "B_cell_mtx_14mos_scaled<-  B_cell_combined_scaled[, 28:54]\n",
    "B_cell_mtx_18mos_scaled<-  B_cell_combined_scaled[, 55:81]\n",
    "B_cell_mtx_sick_scaled<-  B_cell_combined_scaled[, 82:108]\n",
    "\n",
    "colnames(B_cell_mtx_6mos_scaled)<- colnames(B_cell_mtx$exp_mat)\n",
    "colnames(B_cell_mtx_14mos_scaled)<- colnames(B_cell_mtx$exp_mat)\n",
    "colnames(B_cell_mtx_18mos_scaled)<- colnames(B_cell_mtx$exp_mat)\n",
    "colnames(B_cell_mtx_sick_scaled)<- colnames(B_cell_mtx$exp_mat)"
   ]
  },
  {
   "cell_type": "code",
   "execution_count": 20,
   "id": "dfbb9e76",
   "metadata": {},
   "outputs": [],
   "source": [
    "column_ha <- HeatmapAnnotation(foo = anno_text(gsub(\"_.*\", \"\", cluster_id), \n",
    "                                               location = 0.5, just = \"center\", \n",
    "                                               gp = gpar(fill = setNames(B_cell_colors, \n",
    "                                                                         gsub(\"_.*\", \"\", cluster_id)), \n",
    "                                                         col = \"white\", border = NA)), \n",
    "                               show_annotation_name = FALSE, show_legend = FALSE)\n",
    "\n",
    "col_fun = circlize::colorRamp2(c(-2,0,2), viridis::viridis(3))"
   ]
  },
  {
   "cell_type": "code",
   "execution_count": 21,
   "id": "e65334c1",
   "metadata": {},
   "outputs": [
    {
     "data": {
      "text/html": [
       "<strong>png:</strong> 2"
      ],
      "text/latex": [
       "\\textbf{png:} 2"
      ],
      "text/markdown": [
       "**png:** 2"
      ],
      "text/plain": [
       "png \n",
       "  2 "
      ]
     },
     "metadata": {},
     "output_type": "display_data"
    }
   ],
   "source": [
    "pdf(\"./results/figures/5_B_cell_dotplot_final_annotation_by_age.pdf\", width = 30, height = 16)\n",
    "\n",
    "hp1<- MakeClusterDotPlot(exp_mat = B_cell_mtx_6mos_scaled, \n",
    "           percent_mat = B_cell_mtx_6mos$percent_mat,\n",
    "           col_fun = col_fun, cluster_id = cluster_id,\n",
    "           column_title = \"6mos\",\n",
    "           column_title_side = \"bottom\",\n",
    "           row_split = row_split,\n",
    "           row_names_font_size = 8, \n",
    "           column_ha = column_ha,\n",
    "           legend_dot_size = unit(2, \"mm\"),\n",
    "           show_row_dend =FALSE,\n",
    "           show_column_dend = FALSE,\n",
    "           column_names_side = \"top\", cluster_rows=FALSE, cluster_columns=FALSE)\n",
    "\n",
    "hp2<- MakeClusterDotPlot(exp_mat = B_cell_mtx_14mos_scaled, \n",
    "               percent_mat = B_cell_mtx_14mos$percent_mat, \n",
    "               col_fun = col_fun, cluster_id = cluster_id,\n",
    "               column_title = \"14mos\",\n",
    "               column_title_side = \"bottom\",\n",
    "               row_split = row_split,\n",
    "               row_names_font_size = 8, \n",
    "               column_ha = column_ha,\n",
    "               legend_dot_size = unit(2, \"mm\"),\n",
    "               column_names_side = \"top\", cluster_rows=FALSE, cluster_columns=FALSE)\n",
    "\n",
    "hp3<- MakeClusterDotPlot(exp_mat = B_cell_mtx_18mos_scaled, \n",
    "               percent_mat = B_cell_mtx_18mos$percent_mat, \n",
    "               col_fun = col_fun, cluster_id = cluster_id,\n",
    "               column_title = \"18mos\",\n",
    "               column_title_side = \"bottom\",         \n",
    "               row_split = row_split,\n",
    "               row_names_font_size = 8, \n",
    "               column_ha = column_ha,\n",
    "               legend_dot_size = unit(2, \"mm\"),\n",
    "               column_names_side = \"top\",  cluster_rows=FALSE, cluster_columns=FALSE)\n",
    "\n",
    "hp4<- MakeClusterDotPlot(exp_mat = B_cell_mtx_sick_scaled, \n",
    "               percent_mat = B_cell_mtx_sick$percent_mat, \n",
    "               col_fun = col_fun, cluster_id = cluster_id,\n",
    "               column_title = \"sick\",\n",
    "               column_title_side = \"bottom\",         \n",
    "               row_split = row_split,\n",
    "               row_names_font_size = 8, \n",
    "               column_ha = column_ha,\n",
    "               legend_dot_size = unit(2, \"mm\"),\n",
    "               column_names_side = \"top\",  cluster_rows=FALSE, cluster_columns=FALSE)\n",
    "\n",
    "draw(hp1 + hp2 + hp3 + hp4 , annotation_legend_list = lgd, ht_gap = unit(1, \"cm\") )\n",
    "dev.off()"
   ]
  },
  {
   "cell_type": "markdown",
   "id": "9c3d97f7",
   "metadata": {},
   "source": [
    "### By age and genotype 14 class"
   ]
  },
  {
   "cell_type": "markdown",
   "id": "e46c9f4f",
   "metadata": {},
   "source": [
    "- 6mos (WT, CD70-/-, Bcl6tg/+, CD70-/-;Bcl6tg/+)"
   ]
  },
  {
   "cell_type": "code",
   "execution_count": 24,
   "id": "05a40b55",
   "metadata": {},
   "outputs": [
    {
     "name": "stdout",
     "output_type": "stream",
     "text": [
      "[1] 27\n",
      "[1] 27\n",
      "[1] 27\n",
      "[1] 27\n",
      "[1] 27\n"
     ]
    },
    {
     "data": {
      "text/html": [
       "108"
      ],
      "text/latex": [
       "108"
      ],
      "text/markdown": [
       "108"
      ],
      "text/plain": [
       "[1] 108"
      ]
     },
     "metadata": {},
     "output_type": "display_data"
    },
    {
     "data": {
      "text/html": [
       "<strong>png:</strong> 2"
      ],
      "text/latex": [
       "\\textbf{png:} 2"
      ],
      "text/markdown": [
       "**png:** 2"
      ],
      "text/plain": [
       "png \n",
       "  2 "
      ]
     },
     "metadata": {},
     "output_type": "display_data"
    }
   ],
   "source": [
    "n_6mos_WT_cells<- rownames(B_cell@meta.data  %>% filter(age == \"6mos\", genotype == \"WT\"))\n",
    "n_6mos_cd70_cells<- rownames(B_cell@meta.data  %>% filter(age == \"6mos\", genotype == \"CD70-/-\"))\n",
    "n_6mos_single_cells<- rownames(B_cell@meta.data  %>% filter(age == \"6mos\", genotype == \"Bcl6tg/+\"))\n",
    "n_6mos_double_cells<- rownames(B_cell@meta.data  %>% filter(age == \"6mos\", genotype == \"CD70-/-;Bcl6tg/+\"))\n",
    "\n",
    "B_cell_mtx<- GetMatrixFromSeurat2(B_cell, B_cell_genes, \n",
    "                                          group = \"new_annotation\")\n",
    "\n",
    "B_cell_mtx_6mos_WT<- GetMatrixFromSeurat2(B_cell[,n_6mos_WT_cells], B_cell_genes, \n",
    "                                          group = \"new_annotation\")\n",
    "\n",
    "B_cell_mtx_6mos_cd70<- GetMatrixFromSeurat2(B_cell[,n_6mos_cd70_cells], B_cell_genes, \n",
    "                                          group = \"new_annotation\")\n",
    "\n",
    "B_cell_mtx_6mos_single<- GetMatrixFromSeurat2(B_cell[,n_6mos_single_cells], B_cell_genes, \n",
    "                                          group = \"new_annotation\")\n",
    "\n",
    "B_cell_mtx_6mos_double<- GetMatrixFromSeurat2(B_cell[,n_6mos_double_cells], B_cell_genes, \n",
    "                                          group = \"new_annotation\")\n",
    "\n",
    "B_cell_combined<- cbind(B_cell_mtx_6mos_WT$exp_mat,\n",
    "                        B_cell_mtx_6mos_cd70$exp_mat,\n",
    "                        B_cell_mtx_6mos_single$exp_mat,\n",
    "                        B_cell_mtx_6mos_double$exp_mat)\n",
    "\n",
    "B_cell_combined_scaled<- t(apply(B_cell_combined, 1, scale))\n",
    "B_cell_combined_scaled<- B_cell_combined_scaled  %>% replace(is.na(.),0)\n",
    "# B_cell_combined_scaled = B_cell_combined_scaled[row_order(ht)  %>%  unlist(use.names = FALSE), ]\n",
    "\n",
    "\n",
    "ncol(B_cell_combined_scaled)\n",
    "B_cell_mtx_6mos_WT_scaled<-  B_cell_combined_scaled[, 1:27]\n",
    "B_cell_mtx_6mos_cd70_scaled<-  B_cell_combined_scaled[, 28:54]\n",
    "B_cell_mtx_6mos_single_scaled<-  B_cell_combined_scaled[, 55:81]\n",
    "B_cell_mtx_6mos_double_scaled<-  B_cell_combined_scaled[, 82:108]\n",
    "\n",
    "colnames(B_cell_mtx_6mos_WT_scaled)<- colnames(B_cell_mtx$exp_mat)\n",
    "colnames(B_cell_mtx_6mos_cd70_scaled)<- colnames(B_cell_mtx$exp_mat)\n",
    "colnames(B_cell_mtx_6mos_single_scaled)<- colnames(B_cell_mtx$exp_mat)\n",
    "colnames(B_cell_mtx_6mos_double_scaled)<- colnames(B_cell_mtx$exp_mat)\n",
    "\n",
    "pdf(\"./results/figures/5_B_cell_dotplot_final_annotation_6mos_by_genotype.pdf\", width = 30, height = 16)\n",
    "\n",
    "hp1<- MakeClusterDotPlot(exp_mat = B_cell_mtx_6mos_WT_scaled, \n",
    "               percent_mat = B_cell_mtx_6mos_WT$percent_mat, \n",
    "               col_fun = col_fun,\n",
    "               cluster_id = cluster_id,              \n",
    "               column_title = \"6mos WT\",\n",
    "               column_title_side = \"bottom\",\n",
    "               row_split = row_split,\n",
    "               row_names_font_size = 8, \n",
    "               column_ha = column_ha,\n",
    "               legend_dot_size = unit(2, \"mm\"),\n",
    "               show_row_dend =FALSE,\n",
    "               show_column_dend = FALSE,\n",
    "               column_names_side = \"top\",\n",
    "               cluster_rows = FALSE, cluster_columns = FALSE)\n",
    "\n",
    "hp2<- MakeClusterDotPlot(exp_mat = B_cell_mtx_6mos_cd70_scaled, \n",
    "               percent_mat = B_cell_mtx_6mos_cd70$percent_mat, \n",
    "               col_fun = col_fun, cluster_id = cluster_id,\n",
    "               column_title = \"6mos CD70-/-\",\n",
    "               column_title_side = \"bottom\",\n",
    "               row_split = row_split,\n",
    "               row_names_font_size = 8, \n",
    "               column_ha = column_ha,\n",
    "               legend_dot_size = unit(2, \"mm\"),\n",
    "               column_names_side = \"top\", cluster_rows = FALSE, cluster_columns = FALSE)\n",
    "\n",
    "hp3<- MakeClusterDotPlot(exp_mat = B_cell_mtx_6mos_single_scaled, \n",
    "               percent_mat = B_cell_mtx_6mos_single$percent_mat, \n",
    "               col_fun = col_fun, cluster_id = cluster_id,\n",
    "               column_title = \"6mos Bcl6tg/+\",\n",
    "               column_title_side = \"bottom\",         \n",
    "               row_split = row_split,\n",
    "               row_names_font_size = 8, \n",
    "               column_ha = column_ha, \n",
    "               legend_dot_size = unit(2, \"mm\"),\n",
    "               column_names_side = \"top\", cluster_rows = FALSE, cluster_columns = FALSE)\n",
    "\n",
    "hp4<- MakeClusterDotPlot(exp_mat = B_cell_mtx_6mos_double_scaled, \n",
    "               percent_mat = B_cell_mtx_6mos_double$percent_mat, \n",
    "               col_fun = col_fun, cluster_id = cluster_id,\n",
    "               column_title = \"6mos CD70-/-;Bcl6tg/+\",\n",
    "               column_title_side = \"bottom\",         \n",
    "               row_split = row_split,\n",
    "               row_names_font_size = 8, \n",
    "               column_ha = column_ha,\n",
    "               legend_dot_size = unit(2, \"mm\"),\n",
    "               column_names_side = \"top\", cluster_rows = FALSE, cluster_columns = FALSE)\n",
    "\n",
    "draw(hp1 + hp2 + hp3 + hp4 , annotation_legend_list = lgd, ht_gap = unit(1, \"cm\") )\n",
    "dev.off()"
   ]
  },
  {
   "cell_type": "markdown",
   "id": "73e0019f",
   "metadata": {},
   "source": [
    "- 14mos (WT, CD70-/-, Bcl6tg/+, CD70-/-;Bcl6tg/+)"
   ]
  },
  {
   "cell_type": "code",
   "execution_count": 27,
   "id": "df86f8b2",
   "metadata": {},
   "outputs": [
    {
     "name": "stdout",
     "output_type": "stream",
     "text": [
      "[1] 27\n",
      "[1] 27\n",
      "[1] 27\n",
      "[1] 27\n",
      "[1] 27\n"
     ]
    },
    {
     "data": {
      "text/html": [
       "108"
      ],
      "text/latex": [
       "108"
      ],
      "text/markdown": [
       "108"
      ],
      "text/plain": [
       "[1] 108"
      ]
     },
     "metadata": {},
     "output_type": "display_data"
    },
    {
     "data": {
      "text/html": [
       "<strong>png:</strong> 2"
      ],
      "text/latex": [
       "\\textbf{png:} 2"
      ],
      "text/markdown": [
       "**png:** 2"
      ],
      "text/plain": [
       "png \n",
       "  2 "
      ]
     },
     "metadata": {},
     "output_type": "display_data"
    }
   ],
   "source": [
    "n_14mos_WT_cells<- rownames(B_cell@meta.data  %>% filter(age == \"14mos\", genotype == \"WT\"))\n",
    "n_14mos_cd70_cells<- rownames(B_cell@meta.data  %>% filter(age == \"14mos\", genotype == \"CD70-/-\"))\n",
    "n_14mos_single_cells<- rownames(B_cell@meta.data  %>% filter(age == \"14mos\", genotype == \"Bcl6tg/+\"))\n",
    "n_14mos_double_cells<- rownames(B_cell@meta.data  %>% filter(age == \"14mos\", genotype == \"CD70-/-;Bcl6tg/+\"))\n",
    "\n",
    "B_cell_mtx<- GetMatrixFromSeurat2(B_cell, B_cell_genes, \n",
    "                                          group = \"new_annotation\")\n",
    "\n",
    "B_cell_mtx_14mos_WT<- GetMatrixFromSeurat2(B_cell[,n_14mos_WT_cells], B_cell_genes, \n",
    "                                          group = \"new_annotation\")\n",
    "\n",
    "B_cell_mtx_14mos_cd70<- GetMatrixFromSeurat2(B_cell[,n_14mos_cd70_cells], B_cell_genes, \n",
    "                                          group = \"new_annotation\")\n",
    "\n",
    "B_cell_mtx_14mos_single<- GetMatrixFromSeurat2(B_cell[,n_14mos_single_cells], B_cell_genes, \n",
    "                                          group = \"new_annotation\")\n",
    "\n",
    "B_cell_mtx_14mos_double<- GetMatrixFromSeurat2(B_cell[,n_14mos_double_cells], B_cell_genes, \n",
    "                                          group = \"new_annotation\")\n",
    "\n",
    "B_cell_combined<- cbind(B_cell_mtx_14mos_WT$exp_mat,\n",
    "                        B_cell_mtx_14mos_cd70$exp_mat,\n",
    "                        B_cell_mtx_14mos_single$exp_mat,\n",
    "                        B_cell_mtx_14mos_double$exp_mat)\n",
    "\n",
    "B_cell_combined_scaled<- t(apply(B_cell_combined, 1, scale))\n",
    "B_cell_combined_scaled<- B_cell_combined_scaled  %>% replace(is.na(.),0)\n",
    "# B_cell_combined_scaled = B_cell_combined_scaled[row_order(ht)  %>%  unlist(use.names = FALSE), ]\n",
    "\n",
    "ncol(B_cell_combined_scaled)\n",
    "B_cell_mtx_14mos_WT_scaled<-  B_cell_combined_scaled[, 1:27]\n",
    "B_cell_mtx_14mos_cd70_scaled<-  B_cell_combined_scaled[, 28:54]\n",
    "B_cell_mtx_14mos_single_scaled<-  B_cell_combined_scaled[, 55:81]\n",
    "B_cell_mtx_14mos_double_scaled<-  B_cell_combined_scaled[, 82:108]\n",
    "\n",
    "colnames(B_cell_mtx_14mos_WT_scaled)<- colnames(B_cell_mtx$exp_mat)\n",
    "colnames(B_cell_mtx_14mos_cd70_scaled)<- colnames(B_cell_mtx$exp_mat)\n",
    "colnames(B_cell_mtx_14mos_single_scaled)<- colnames(B_cell_mtx$exp_mat)\n",
    "colnames(B_cell_mtx_14mos_double_scaled)<- colnames(B_cell_mtx$exp_mat)\n",
    "\n",
    "pdf(\"./results/figures/5_B_cell_dotplot_final_annotation_14mos_by_genotype.pdf\", width = 30, height = 16)\n",
    "\n",
    "hp1<- MakeClusterDotPlot(exp_mat = B_cell_mtx_14mos_WT_scaled, \n",
    "               percent_mat = B_cell_mtx_14mos_WT$percent_mat, \n",
    "               col_fun = col_fun,\n",
    "               cluster_id = cluster_id,              \n",
    "               column_title = \"14mos WT\",\n",
    "               column_title_side = \"bottom\",\n",
    "               row_split = row_split,\n",
    "               row_names_font_size = 8, \n",
    "               column_ha = column_ha,\n",
    "               legend_dot_size = unit(2, \"mm\"),\n",
    "               show_row_dend =FALSE,\n",
    "               show_column_dend = FALSE,\n",
    "               column_names_side = \"top\",\n",
    "               cluster_rows=FALSE, cluster_columns = FALSE)\n",
    "\n",
    "hp2<- MakeClusterDotPlot(exp_mat = B_cell_mtx_14mos_cd70_scaled, \n",
    "               percent_mat = B_cell_mtx_14mos_cd70$percent_mat, \n",
    "               col_fun = col_fun, cluster_id = cluster_id,\n",
    "               column_title = \"14mos CD70-/-\",\n",
    "               column_title_side = \"bottom\",\n",
    "               row_split = row_split,\n",
    "               row_names_font_size = 8, \n",
    "               column_ha = column_ha,\n",
    "               legend_dot_size = unit(2, \"mm\"),\n",
    "               column_names_side = \"top\", cluster_rows=FALSE, cluster_columns = FALSE)\n",
    "\n",
    "hp3<- MakeClusterDotPlot(exp_mat = B_cell_mtx_14mos_single_scaled, \n",
    "               percent_mat = B_cell_mtx_14mos_single$percent_mat, \n",
    "               col_fun = col_fun, cluster_id = cluster_id,\n",
    "               column_title = \"14mos Bcl6tg/+\",\n",
    "               column_title_side = \"bottom\",         \n",
    "               row_split = row_split,\n",
    "               row_names_font_size = 8, \n",
    "               column_ha = column_ha,\n",
    "               legend_dot_size = unit(2, \"mm\"),\n",
    "               column_names_side = \"top\", cluster_rows=FALSE, cluster_columns = FALSE)\n",
    "\n",
    "hp4<- MakeClusterDotPlot(exp_mat = B_cell_mtx_14mos_double_scaled, \n",
    "               percent_mat = B_cell_mtx_14mos_double$percent_mat, \n",
    "               col_fun = col_fun, cluster_id = cluster_id,\n",
    "               column_title = \"14mos CD70-/-;Bcl6tg/+\",\n",
    "               column_title_side = \"bottom\",         \n",
    "               row_split = row_split,\n",
    "               row_names_font_size = 8, \n",
    "               column_ha = column_ha,\n",
    "               legend_dot_size = unit(2, \"mm\"),\n",
    "               column_names_side = \"top\", cluster_rows=FALSE, cluster_columns = FALSE)\n",
    "\n",
    "draw(hp1 + hp2 + hp3 + hp4 , annotation_legend_list = lgd, ht_gap = unit(1, \"cm\") )\n",
    "dev.off()"
   ]
  },
  {
   "cell_type": "markdown",
   "id": "67826130",
   "metadata": {},
   "source": [
    "- 18mos (WT, CD70-/-, Bcl6tg/+, CD70-/-;Bcl6tg/+)"
   ]
  },
  {
   "cell_type": "code",
   "execution_count": 25,
   "id": "d3b5e56f",
   "metadata": {},
   "outputs": [
    {
     "name": "stdout",
     "output_type": "stream",
     "text": [
      "[1] 27\n",
      "[1] 27\n",
      "[1] 27\n",
      "[1] 27\n",
      "[1] 27\n"
     ]
    },
    {
     "data": {
      "text/html": [
       "108"
      ],
      "text/latex": [
       "108"
      ],
      "text/markdown": [
       "108"
      ],
      "text/plain": [
       "[1] 108"
      ]
     },
     "metadata": {},
     "output_type": "display_data"
    },
    {
     "data": {
      "text/html": [
       "<strong>png:</strong> 2"
      ],
      "text/latex": [
       "\\textbf{png:} 2"
      ],
      "text/markdown": [
       "**png:** 2"
      ],
      "text/plain": [
       "png \n",
       "  2 "
      ]
     },
     "metadata": {},
     "output_type": "display_data"
    }
   ],
   "source": [
    "n_18mos_WT_cells<- rownames(B_cell@meta.data  %>% filter(age == \"18mos\", genotype == \"WT\"))\n",
    "n_18mos_cd70_cells<- rownames(B_cell@meta.data  %>% filter(age == \"18mos\", genotype == \"CD70-/-\"))\n",
    "n_18mos_single_cells<- rownames(B_cell@meta.data  %>% filter(age == \"18mos\", genotype == \"Bcl6tg/+\"))\n",
    "n_18mos_double_cells<- rownames(B_cell@meta.data  %>% filter(age == \"18mos\", genotype == \"CD70-/-;Bcl6tg/+\"))\n",
    "\n",
    "B_cell_mtx<- GetMatrixFromSeurat2(B_cell, B_cell_genes, \n",
    "                                          group = \"new_annotation\")\n",
    "\n",
    "B_cell_mtx_18mos_WT<- GetMatrixFromSeurat2(B_cell[,n_18mos_WT_cells], B_cell_genes, \n",
    "                                          group = \"new_annotation\")\n",
    "\n",
    "B_cell_mtx_18mos_cd70<- GetMatrixFromSeurat2(B_cell[,n_18mos_cd70_cells], B_cell_genes, \n",
    "                                          group = \"new_annotation\")\n",
    "\n",
    "B_cell_mtx_18mos_single<- GetMatrixFromSeurat2(B_cell[,n_18mos_single_cells], B_cell_genes, \n",
    "                                          group = \"new_annotation\")\n",
    "\n",
    "B_cell_mtx_18mos_double<- GetMatrixFromSeurat2(B_cell[,n_18mos_double_cells], B_cell_genes, \n",
    "                                          group = \"new_annotation\")\n",
    "\n",
    "B_cell_combined<- cbind(B_cell_mtx_18mos_WT$exp_mat,\n",
    "                        B_cell_mtx_18mos_cd70$exp_mat,\n",
    "                        B_cell_mtx_18mos_single$exp_mat,\n",
    "                        B_cell_mtx_18mos_double$exp_mat)\n",
    "\n",
    "B_cell_combined_scaled<- t(apply(B_cell_combined, 1, scale))\n",
    "B_cell_combined_scaled<- B_cell_combined_scaled  %>% replace(is.na(.),0)\n",
    "# B_cell_combined_scaled = B_cell_combined_scaled[row_order(ht)  %>%  unlist(use.names = FALSE), ]\n",
    "\n",
    "\n",
    "ncol(B_cell_combined_scaled)\n",
    "B_cell_mtx_18mos_WT_scaled<-  B_cell_combined_scaled[, 1:27]\n",
    "B_cell_mtx_18mos_cd70_scaled<-  B_cell_combined_scaled[, 28:54]\n",
    "B_cell_mtx_18mos_single_scaled<-  B_cell_combined_scaled[, 55:81]\n",
    "B_cell_mtx_18mos_double_scaled<-  B_cell_combined_scaled[, 82:108]\n",
    "\n",
    "colnames(B_cell_mtx_18mos_WT_scaled)<- colnames(B_cell_mtx$exp_mat)\n",
    "colnames(B_cell_mtx_18mos_cd70_scaled)<- colnames(B_cell_mtx$exp_mat)\n",
    "colnames(B_cell_mtx_18mos_single_scaled)<- colnames(B_cell_mtx$exp_mat)\n",
    "colnames(B_cell_mtx_18mos_double_scaled)<- colnames(B_cell_mtx$exp_mat)\n",
    "\n",
    "pdf(\"./results/figures/5_B_cell_dotplot_final_annotation_18mos_by_genotype.pdf\", width = 30, height = 16)\n",
    "\n",
    "hp1<- MakeClusterDotPlot(exp_mat = B_cell_mtx_18mos_WT_scaled, \n",
    "               percent_mat = B_cell_mtx_18mos_WT$percent_mat, \n",
    "               col_fun = col_fun,\n",
    "               cluster_id = cluster_id,              \n",
    "               column_title = \"18mos WT\",\n",
    "               column_title_side = \"bottom\",\n",
    "               row_split = row_split,\n",
    "               row_names_font_size = 8, \n",
    "               column_ha = column_ha,\n",
    "               legend_dot_size = unit(2, \"mm\"),\n",
    "               show_row_dend =FALSE,\n",
    "               show_column_dend = FALSE,\n",
    "               column_names_side = \"top\",\n",
    "               cluster_rows=FALSE, cluster_columns = FALSE)\n",
    "\n",
    "hp2<- MakeClusterDotPlot(exp_mat = B_cell_mtx_18mos_cd70_scaled, \n",
    "               percent_mat = B_cell_mtx_18mos_cd70$percent_mat, \n",
    "               col_fun = col_fun, cluster_id = cluster_id,\n",
    "               column_title = \"18mos CD70-/-\",\n",
    "               column_title_side = \"bottom\",\n",
    "               row_split = row_split,\n",
    "               row_names_font_size = 8, \n",
    "               column_ha = column_ha,\n",
    "               legend_dot_size = unit(2, \"mm\"),\n",
    "               column_names_side = \"top\", cluster_rows=FALSE, cluster_columns = FALSE)\n",
    "\n",
    "hp3<- MakeClusterDotPlot(exp_mat = B_cell_mtx_18mos_single_scaled, \n",
    "               percent_mat = B_cell_mtx_18mos_single$percent_mat, \n",
    "               col_fun = col_fun, cluster_id = cluster_id,\n",
    "               column_title = \"18mos Bcl6tg/+\",\n",
    "               column_title_side = \"bottom\",         \n",
    "               row_split = row_split,\n",
    "               row_names_font_size = 8, \n",
    "               column_ha = column_ha,\n",
    "               legend_dot_size = unit(2, \"mm\"),\n",
    "               column_names_side = \"top\", cluster_rows=FALSE, cluster_columns = FALSE)\n",
    "\n",
    "hp4<- MakeClusterDotPlot(exp_mat = B_cell_mtx_18mos_double_scaled, \n",
    "               percent_mat = B_cell_mtx_18mos_double$percent_mat, \n",
    "               col_fun = col_fun, cluster_id = cluster_id,\n",
    "               column_title = \"18mos CD70-/-;Bcl6tg/+\",\n",
    "               column_title_side = \"bottom\",         \n",
    "               row_split = row_split,\n",
    "               row_names_font_size = 8, \n",
    "               column_ha = column_ha,\n",
    "               legend_dot_size = unit(2, \"mm\"),\n",
    "               column_names_side = \"top\", cluster_rows=FALSE, cluster_columns = FALSE)\n",
    "\n",
    "draw(hp1 + hp2 + hp3 + hp4 , annotation_legend_list = lgd, ht_gap = unit(1, \"cm\") )\n",
    "dev.off()"
   ]
  },
  {
   "cell_type": "markdown",
   "id": "cbb29390",
   "metadata": {},
   "source": [
    "- sick (Bcl6tg/+, CD70-/-;Bcl6tg/+)"
   ]
  },
  {
   "cell_type": "code",
   "execution_count": 26,
   "id": "bd9e6966",
   "metadata": {},
   "outputs": [
    {
     "name": "stdout",
     "output_type": "stream",
     "text": [
      "[1] 27\n",
      "[1] 27\n",
      "[1] 27\n"
     ]
    },
    {
     "data": {
      "text/html": [
       "54"
      ],
      "text/latex": [
       "54"
      ],
      "text/markdown": [
       "54"
      ],
      "text/plain": [
       "[1] 54"
      ]
     },
     "metadata": {},
     "output_type": "display_data"
    },
    {
     "data": {
      "text/html": [
       "<strong>png:</strong> 2"
      ],
      "text/latex": [
       "\\textbf{png:} 2"
      ],
      "text/markdown": [
       "**png:** 2"
      ],
      "text/plain": [
       "png \n",
       "  2 "
      ]
     },
     "metadata": {},
     "output_type": "display_data"
    }
   ],
   "source": [
    "n_sick_single_cells<- rownames(B_cell@meta.data  %>% filter(age == \"sick\", genotype == \"Bcl6tg/+\"))\n",
    "n_sick_double_cells<- rownames(B_cell@meta.data  %>% filter(age == \"sick\", genotype == \"CD70-/-;Bcl6tg/+\"))\n",
    "\n",
    "B_cell_mtx<- GetMatrixFromSeurat2(B_cell, B_cell_genes, \n",
    "                                          group = \"new_annotation\")\n",
    "\n",
    "B_cell_mtx_sick_single<- GetMatrixFromSeurat2(B_cell[,n_sick_single_cells], B_cell_genes, \n",
    "                                          group = \"new_annotation\")\n",
    "\n",
    "B_cell_mtx_sick_double<- GetMatrixFromSeurat2(B_cell[,n_sick_double_cells], B_cell_genes, \n",
    "                                          group = \"new_annotation\")\n",
    "\n",
    "B_cell_combined<- cbind(B_cell_mtx_sick_single$exp_mat,\n",
    "                        B_cell_mtx_sick_double$exp_mat)\n",
    "\n",
    "B_cell_combined_scaled<- t(apply(B_cell_combined, 1, scale))\n",
    "B_cell_combined_scaled<- B_cell_combined_scaled  %>% replace(is.na(.),0)\n",
    "# B_cell_combined_scaled = B_cell_combined_scaled[row_order(ht)  %>%  unlist(use.names = FALSE), ]\n",
    "\n",
    "\n",
    "ncol(B_cell_combined_scaled)\n",
    "B_cell_mtx_sick_single_scaled<-  B_cell_combined_scaled[, 1:27]\n",
    "B_cell_mtx_sick_double_scaled<-  B_cell_combined_scaled[, 28:54]\n",
    "\n",
    "colnames(B_cell_mtx_sick_single_scaled)<- colnames(B_cell_mtx$exp_mat)\n",
    "colnames(B_cell_mtx_sick_double_scaled)<- colnames(B_cell_mtx$exp_mat)\n",
    "\n",
    "pdf(\"./results/figures/5_B_cell_dotplot_final_annotation_sick_by_genotype.pdf\", width = 15, height = 16)\n",
    "\n",
    "hp1<- MakeClusterDotPlot(exp_mat = B_cell_mtx_sick_single_scaled, \n",
    "               percent_mat = B_cell_mtx_sick_single$percent_mat, \n",
    "               col_fun = col_fun, cluster_id = cluster_id,\n",
    "               column_title = \"sick Bcl6tg/+\",\n",
    "               column_title_side = \"bottom\",         \n",
    "               row_split = row_split,\n",
    "               row_names_font_size = 8, \n",
    "               column_ha = column_ha, \n",
    "               show_row_dend =FALSE,\n",
    "               show_column_dend = FALSE,\n",
    "               legend_dot_size = unit(2, \"mm\"),\n",
    "               column_names_side = \"top\", cluster_rows=FALSE, cluster_columns = FALSE)\n",
    "\n",
    "hp2<- MakeClusterDotPlot(exp_mat = B_cell_mtx_sick_double_scaled, \n",
    "               percent_mat = B_cell_mtx_sick_double$percent_mat, \n",
    "               col_fun = col_fun, cluster_id = cluster_id,\n",
    "               column_title = \"sick CD70-/-;Bcl6tg/+\",\n",
    "               column_title_side = \"bottom\",         \n",
    "               row_split = row_split,\n",
    "               row_names_font_size = 8, \n",
    "               column_ha = column_ha,\n",
    "               legend_dot_size = unit(2, \"mm\"),\n",
    "               column_names_side = \"top\", cluster_rows=FALSE, cluster_columns = FALSE)\n",
    "\n",
    "draw(hp1 + hp2 , annotation_legend_list = lgd, ht_gap = unit(1, \"cm\") )\n",
    "dev.off()"
   ]
  },
  {
   "cell_type": "markdown",
   "id": "0f53d0bd",
   "metadata": {},
   "source": [
    "### aberant cell clusters with malignant genes "
   ]
  },
  {
   "cell_type": "code",
   "execution_count": 55,
   "id": "7727dd24",
   "metadata": {},
   "outputs": [
    {
     "data": {
      "text/html": [],
      "text/latex": [],
      "text/markdown": [],
      "text/plain": [
       "character(0)"
      ]
     },
     "metadata": {},
     "output_type": "display_data"
    }
   ],
   "source": [
    "B_cell_genes<- c('Itgax', 'Itgam', 'Tbx21', 'Zeb2', 'Dut', 'Birc5', 'Mki67', \n",
    "                 'H2-Ab1', 'H2-Eb1', 'H2-Aa', 'Cd19', 'Stmn1', 'Mef2b', 'Rgs13', 'S1pr2', 'Sdc1', \n",
    "                 'Jchain', 'Ciita', 'Ahnak', 'S100a6', 'Vim', 'Il10', 'Ebi3', 'Ms4a1', 'Cd79b')\n",
    "\n",
    "B_cell_genes[!B_cell_genes %in% rownames(B_cell)]\n",
    "\n",
    "B_cell_genes<- B_cell_genes  %>% unique()"
   ]
  },
  {
   "cell_type": "code",
   "execution_count": 56,
   "id": "7193e81c",
   "metadata": {},
   "outputs": [],
   "source": [
    "clusters <- c(3, 4, 5, 7, 8, 15, 18, 19, 21, 22)\n",
    "B_cell_clusters<- B_cell@meta.data  %>%\n",
    "    filter(seurat_clusters %in% clusters)  %>%  \n",
    "    select(seurat_clusters, new_annotation, HEX_code)  %>% distinct()\n",
    "\n",
    "B_cell_clusters$seurat_clusters <- factor(B_cell_clusters$seurat_clusters, levels = clusters)\n",
    "\n",
    "B_cell_colors<- B_cell_clusters %>% arrange(seurat_clusters) %>% pull(HEX_code)\n",
    "cluster_id <- B_cell_clusters %>% arrange(seurat_clusters) %>% pull(new_annotation)"
   ]
  },
  {
   "cell_type": "code",
   "execution_count": 57,
   "id": "a8e68c3c",
   "metadata": {},
   "outputs": [
    {
     "data": {
      "text/html": [
       "<strong>png:</strong> 2"
      ],
      "text/latex": [
       "\\textbf{png:} 2"
      ],
      "text/markdown": [
       "**png:** 2"
      ],
      "text/plain": [
       "png \n",
       "  2 "
      ]
     },
     "metadata": {},
     "output_type": "display_data"
    }
   ],
   "source": [
    "B_cell_mtx<- GetMatrixFromSeurat(B_cell, B_cell_genes, group = \"new_annotation\")\n",
    "column_ha <- HeatmapAnnotation(foo = anno_text(gsub(\"_.*\", \"\", cluster_id), location = 0.5, just = \"center\", \n",
    "                    gp = gpar(fill = setNames(B_cell_colors, gsub(\"_.*\", \"\", cluster_id)), \n",
    "                              col = \"white\", border = NA)), show_annotation_name = FALSE, show_legend = FALSE)\n",
    "\n",
    "col_fun = circlize::colorRamp2(c(-2,0,2), viridis::viridis(3))\n",
    "\n",
    "p<- MakeClusterDotPlot(exp_mat = B_cell_mtx$exp_mat, \n",
    "                       percent_mat =  B_cell_mtx$percent_mat,\n",
    "                       cluster_id = cluster_id,\n",
    "                       column_ha = column_ha, col_fun = col_fun,\n",
    "                       column_title_side = \"bottom\",\n",
    "                       column_title = \"B cell Space\", \n",
    "                       row_km = 5,\n",
    "                       row_names_font_size = 8, \n",
    "                       legend_dot_size = unit(2, \"mm\"),\n",
    "                       column_names_side = \"top\",\n",
    "                       show_column_dend = FALSE,\n",
    "                       show_row_dend = FALSE,\n",
    "                       cluster_rows = TRUE,\n",
    "                       cluster_columns = TRUE)\n",
    "\n",
    "pdf(\"results/figures/5_B_cell_dotplot_final_annotation_aberrant_cells.pdf\", width = 4, height = 6)\n",
    "set.seed(123)\n",
    "ht_2 = draw(p, annotation_legend_list = lgd)\n",
    "\n",
    "dev.off()"
   ]
  },
  {
   "cell_type": "markdown",
   "id": "ad145eef",
   "metadata": {},
   "source": [
    "### aberrant cell clusters by genotypes (normal vs malignant)"
   ]
  },
  {
   "cell_type": "code",
   "execution_count": 58,
   "id": "0a0641e1",
   "metadata": {},
   "outputs": [],
   "source": [
    "B_cell_genes = B_cell_genes[row_order(ht_2)  %>%  unlist(use.names = FALSE)]"
   ]
  },
  {
   "cell_type": "code",
   "execution_count": 61,
   "id": "554751f0",
   "metadata": {},
   "outputs": [
    {
     "name": "stdout",
     "output_type": "stream",
     "text": [
      "[1] 27\n",
      "[1] 27\n"
     ]
    }
   ],
   "source": [
    "normal_cells<- rownames(B_cell@meta.data  %>% filter(genotype %in% c(\"WT\", \"CD70-/-\")))\n",
    "malignant_cells<- rownames(B_cell@meta.data  %>% filter(genotype %in% c(\"Bcl6tg/+\", \"CD70-/-;Bcl6tg/+\")))\n",
    "\n",
    "B_cell_mtx_normal<- GetMatrixFromSeurat2(B_cell[,normal_cells], B_cell_genes, \n",
    "                                          group = \"new_annotation\")\n",
    "\n",
    "B_cell_mtx_malignant<- GetMatrixFromSeurat2(B_cell[,malignant_cells], B_cell_genes, \n",
    "                                          group = \"new_annotation\")\n",
    "\n",
    "B_cell_combined<- cbind(B_cell_mtx_normal$exp_mat, B_cell_mtx_malignant$exp_mat)"
   ]
  },
  {
   "cell_type": "code",
   "execution_count": 62,
   "id": "5850c40e",
   "metadata": {},
   "outputs": [
    {
     "data": {
      "text/html": [
       "54"
      ],
      "text/latex": [
       "54"
      ],
      "text/markdown": [
       "54"
      ],
      "text/plain": [
       "[1] 54"
      ]
     },
     "metadata": {},
     "output_type": "display_data"
    }
   ],
   "source": [
    "B_cell_combined_scaled<- t(apply(B_cell_combined, 1, scale))\n",
    "B_cell_combined_scaled<- B_cell_combined_scaled  %>% replace(is.na(.),0)\n",
    "# B_cell_combined_scaled = B_cell_combined_scaled[row_order(ht_2)  %>%  unlist(use.names = FALSE), ]\n",
    "ncol(B_cell_combined_scaled)\n",
    "B_cell_mtx_normal_scaled<-  B_cell_combined_scaled[, 1:27]\n",
    "B_cell_mtx_malignant_scaled<-  B_cell_combined_scaled[, 28:54]\n",
    "\n",
    "colnames(B_cell_mtx_normal_scaled)<- colnames(B_cell_mtx$exp_mat)\n",
    "colnames(B_cell_mtx_malignant_scaled)<- colnames(B_cell_mtx$exp_mat)"
   ]
  },
  {
   "cell_type": "code",
   "execution_count": 63,
   "id": "33e0eafa",
   "metadata": {},
   "outputs": [],
   "source": [
    "# obtain previous clustering information\n",
    "B_cell_clusters$seurat_clusters <- factor(B_cell_clusters$seurat_clusters, levels = c(7,8,4,22,5,3,21,19,18,15))\n",
    "B_cell_colors<- B_cell_clusters %>% arrange(seurat_clusters) %>% pull(HEX_code)\n",
    "cluster_id <- B_cell_clusters %>% arrange(seurat_clusters) %>% pull(new_annotation)\n",
    "\n",
    "\n",
    "column_ha <- HeatmapAnnotation(foo = anno_text(gsub(\"_.*\", \"\", cluster_id), \n",
    "                                               location = 0.5, just = \"center\", \n",
    "                                               gp = gpar(fill = setNames(B_cell_colors, \n",
    "                                                                         gsub(\"_.*\", \"\", cluster_id)), \n",
    "                                                         col = \"white\", border = NA)), \n",
    "                               show_annotation_name = FALSE, show_legend = FALSE)\n",
    "\n",
    "col_fun = circlize::colorRamp2(c(-2,0,2), viridis::viridis(3))"
   ]
  },
  {
   "cell_type": "code",
   "execution_count": 65,
   "id": "ccd86c38",
   "metadata": {},
   "outputs": [
    {
     "data": {
      "text/html": [
       "<strong>png:</strong> 2"
      ],
      "text/latex": [
       "\\textbf{png:} 2"
      ],
      "text/markdown": [
       "**png:** 2"
      ],
      "text/plain": [
       "png \n",
       "  2 "
      ]
     },
     "metadata": {},
     "output_type": "display_data"
    }
   ],
   "source": [
    "row_split = factor(rep(names(row_order(ht_2)), lengths(row_order(ht_2))), levels = names(row_order(ht_2)))\n",
    "\n",
    "pdf(\"./results/figures/5_B_cell_dotplot_final_annotation_aberrant_cells_by_genotype.pdf\", width = 6.5, height = 6)\n",
    "\n",
    "hp1<- MakeClusterDotPlot(exp_mat = B_cell_mtx_normal_scaled, \n",
    "               percent_mat = B_cell_mtx_normal$percent_mat, \n",
    "               col_fun = col_fun,\n",
    "               cluster_id = cluster_id,              \n",
    "               column_title = \"WT, CD70-/-\",\n",
    "               column_title_side = \"bottom\",\n",
    "               row_split = row_split,\n",
    "               row_names_font_size = 8, \n",
    "               column_ha = column_ha,\n",
    "               legend_dot_size = unit(2, \"mm\"),\n",
    "               show_row_dend =FALSE,\n",
    "               show_column_dend = FALSE,\n",
    "               column_names_side = \"top\",\n",
    "               cluster_rows = FALSE, cluster_columns = FALSE)\n",
    "\n",
    "hp2<- MakeClusterDotPlot(exp_mat = B_cell_mtx_malignant_scaled, \n",
    "               percent_mat = B_cell_mtx_malignant$percent_mat, \n",
    "               col_fun = col_fun, cluster_id = cluster_id,\n",
    "               column_title = \"Bcl6tg/+, CD70-/-;Bcl6tg/+\",\n",
    "               column_title_side = \"bottom\",\n",
    "               row_split = row_split,\n",
    "               row_names_font_size = 8, \n",
    "               column_ha = column_ha,\n",
    "               legend_dot_size = unit(2, \"mm\"),\n",
    "               column_names_side = \"top\", \n",
    "               cluster_rows = FALSE, cluster_columns = FALSE)\n",
    "\n",
    "\n",
    "draw(hp1 + hp2 , annotation_legend_list = lgd, ht_gap = unit(1, \"cm\") )\n",
    "dev.off()"
   ]
  },
  {
   "cell_type": "markdown",
   "id": "fb01137f",
   "metadata": {},
   "source": [
    "### aberrant cell clusters by genotypes"
   ]
  },
  {
   "cell_type": "code",
   "execution_count": 66,
   "id": "ca029794",
   "metadata": {},
   "outputs": [
    {
     "name": "stdout",
     "output_type": "stream",
     "text": [
      "[1] 27\n",
      "[1] 27\n",
      "[1] 27\n",
      "[1] 27\n",
      "[1] 27\n"
     ]
    },
    {
     "data": {
      "text/html": [
       "108"
      ],
      "text/latex": [
       "108"
      ],
      "text/markdown": [
       "108"
      ],
      "text/plain": [
       "[1] 108"
      ]
     },
     "metadata": {},
     "output_type": "display_data"
    }
   ],
   "source": [
    "WT_cells<- rownames(B_cell@meta.data  %>% filter(genotype == \"WT\"))\n",
    "cd70_cells<- rownames(B_cell@meta.data  %>% filter(genotype == \"CD70-/-\"))\n",
    "single_cells<- rownames(B_cell@meta.data  %>% filter(genotype == \"Bcl6tg/+\"))\n",
    "double_cells<- rownames(B_cell@meta.data  %>% filter(genotype == \"CD70-/-;Bcl6tg/+\"))\n",
    "\n",
    "B_cell_mtx<- GetMatrixFromSeurat2(B_cell, B_cell_genes, \n",
    "                                          group = \"new_annotation\")\n",
    "\n",
    "B_cell_mtx_WT<- GetMatrixFromSeurat2(B_cell[,WT_cells], B_cell_genes, \n",
    "                                          group = \"new_annotation\")\n",
    "\n",
    "B_cell_mtx_cd70<- GetMatrixFromSeurat2(B_cell[,cd70_cells], B_cell_genes, \n",
    "                                          group = \"new_annotation\")\n",
    "\n",
    "B_cell_mtx_single<- GetMatrixFromSeurat2(B_cell[,single_cells], B_cell_genes, \n",
    "                                          group = \"new_annotation\")\n",
    "\n",
    "B_cell_mtx_double<- GetMatrixFromSeurat2(B_cell[,double_cells], B_cell_genes, \n",
    "                                          group = \"new_annotation\")\n",
    "\n",
    "B_cell_combined<- cbind(B_cell_mtx_WT$exp_mat, B_cell_mtx_cd70$exp_mat, \n",
    "                                 B_cell_mtx_single$exp_mat, B_cell_mtx_double$exp_mat)\n",
    "\n",
    "B_cell_combined_scaled<- t(apply(B_cell_combined, 1, scale))\n",
    "B_cell_combined_scaled<- B_cell_combined_scaled  %>% replace(is.na(.),0)\n",
    "# B_cell_combined_scaled = B_cell_combined_scaled[row_order(ht_2)  %>%  unlist(use.names = FALSE), ]\n",
    "\n",
    "ncol(B_cell_combined_scaled)"
   ]
  },
  {
   "cell_type": "code",
   "execution_count": 67,
   "id": "676c30f7",
   "metadata": {},
   "outputs": [],
   "source": [
    "B_cell_mtx_WT_scaled<-  B_cell_combined_scaled[, 1:27]\n",
    "B_cell_mtx_cd70_scaled<-  B_cell_combined_scaled[, 28:54]\n",
    "B_cell_mtx_single_scaled<-  B_cell_combined_scaled[, 55:81]\n",
    "B_cell_mtx_double_scaled<-  B_cell_combined_scaled[, 82:108]\n",
    "\n",
    "colnames(B_cell_mtx_WT_scaled)<- colnames(B_cell_mtx$exp_mat)\n",
    "colnames(B_cell_mtx_cd70_scaled)<- colnames(B_cell_mtx$exp_mat)\n",
    "colnames(B_cell_mtx_single_scaled)<- colnames(B_cell_mtx$exp_mat)\n",
    "colnames(B_cell_mtx_double_scaled)<- colnames(B_cell_mtx$exp_mat)"
   ]
  },
  {
   "cell_type": "code",
   "execution_count": 68,
   "id": "8f8c9aa5",
   "metadata": {},
   "outputs": [],
   "source": [
    "column_ha <- HeatmapAnnotation(foo = anno_text(gsub(\"_.*\", \"\", cluster_id), \n",
    "                                               location = 0.5, just = \"center\", \n",
    "                                               gp = gpar(fill = setNames(B_cell_colors, \n",
    "                                                                         gsub(\"_.*\", \"\", cluster_id)), \n",
    "                                                         col = \"white\", border = NA)), \n",
    "                               show_annotation_name = FALSE, show_legend = FALSE)\n",
    "\n",
    "col_fun = circlize::colorRamp2(c(-2,0,2), viridis::viridis(3))"
   ]
  },
  {
   "cell_type": "code",
   "execution_count": 69,
   "id": "b7049b4f",
   "metadata": {},
   "outputs": [
    {
     "data": {
      "text/html": [
       "<strong>png:</strong> 2"
      ],
      "text/latex": [
       "\\textbf{png:} 2"
      ],
      "text/markdown": [
       "**png:** 2"
      ],
      "text/plain": [
       "png \n",
       "  2 "
      ]
     },
     "metadata": {},
     "output_type": "display_data"
    },
    {
     "data": {
      "text/html": [
       "<strong>png:</strong> 2"
      ],
      "text/latex": [
       "\\textbf{png:} 2"
      ],
      "text/markdown": [
       "**png:** 2"
      ],
      "text/plain": [
       "png \n",
       "  2 "
      ]
     },
     "metadata": {},
     "output_type": "display_data"
    },
    {
     "data": {
      "text/html": [
       "<strong>png:</strong> 2"
      ],
      "text/latex": [
       "\\textbf{png:} 2"
      ],
      "text/markdown": [
       "**png:** 2"
      ],
      "text/plain": [
       "png \n",
       "  2 "
      ]
     },
     "metadata": {},
     "output_type": "display_data"
    },
    {
     "data": {
      "text/html": [
       "<strong>png:</strong> 2"
      ],
      "text/latex": [
       "\\textbf{png:} 2"
      ],
      "text/markdown": [
       "**png:** 2"
      ],
      "text/plain": [
       "png \n",
       "  2 "
      ]
     },
     "metadata": {},
     "output_type": "display_data"
    }
   ],
   "source": [
    "pdf(\"./results/figures/5_B_cell_dotplot_final_annotation_aberrant_cells_WT.pdf\", width = 4, height = 6)\n",
    "\n",
    "hp1<- MakeClusterDotPlot(exp_mat = B_cell_mtx_WT_scaled, \n",
    "               percent_mat = B_cell_mtx_WT$percent_mat,\n",
    "               col_fun = col_fun,\n",
    "               cluster_id = cluster_id,              \n",
    "               column_title = \"WT\",\n",
    "               column_title_side = \"bottom\",\n",
    "               row_split = row_split,\n",
    "               row_names_font_size = 8, \n",
    "               column_ha = column_ha,\n",
    "               legend_dot_size = unit(2, \"mm\"),\n",
    "               show_row_dend =FALSE,\n",
    "               show_column_dend = FALSE,\n",
    "               column_names_side = \"top\",\n",
    "               cluster_rows = FALSE,\n",
    "               cluster_columns = FALSE)\n",
    "\n",
    "draw(hp1 , annotation_legend_list = lgd, ht_gap = unit(1, \"cm\") )\n",
    "dev.off()\n",
    "\n",
    "pdf(\"./results/figures/5_B_cell_dotplot_final_annotation_aberrant_cells_CD70.pdf\", width = 4, height = 6)\n",
    "hp2<- MakeClusterDotPlot(exp_mat = B_cell_mtx_cd70_scaled, \n",
    "               percent_mat = B_cell_mtx_cd70$percent_mat, \n",
    "               col_fun = col_fun, cluster_id = cluster_id,\n",
    "               column_title = \"CD70-/-\",\n",
    "               column_title_side = \"bottom\",\n",
    "               row_split = row_split,\n",
    "               row_names_font_size = 8, \n",
    "               column_ha = column_ha,\n",
    "               legend_dot_size = unit(2, \"mm\"),\n",
    "               cluster_rows = FALSE,\n",
    "               column_names_side = \"top\",  cluster_columns = FALSE)\n",
    "\n",
    "draw(hp2 , annotation_legend_list = lgd, ht_gap = unit(1, \"cm\") )\n",
    "dev.off()\n",
    "\n",
    "\n",
    "pdf(\"./results/figures/5_B_cell_dotplot_final_annotation_aberrant_cells_single.pdf\", width = 4, height = 6)\n",
    "hp3<- MakeClusterDotPlot(exp_mat = B_cell_mtx_single_scaled, \n",
    "               percent_mat = B_cell_mtx_single$percent_mat, \n",
    "               col_fun = col_fun, cluster_id = cluster_id,\n",
    "               column_title = \"Bcl6tg/+\",\n",
    "               column_title_side = \"bottom\",         \n",
    "               row_split = row_split,\n",
    "               row_names_font_size = 8, \n",
    "               column_ha = column_ha,\n",
    "               legend_dot_size = unit(2, \"mm\"),\n",
    "               cluster_rows = FALSE,\n",
    "               column_names_side = \"top\",  cluster_columns = FALSE)\n",
    "\n",
    "draw(hp3 , annotation_legend_list = lgd, ht_gap = unit(1, \"cm\") )\n",
    "dev.off()\n",
    "\n",
    "pdf(\"./results/figures/5_B_cell_dotplot_final_annotation_aberrant_cells_double.pdf\", width = 4, height = 6)\n",
    "\n",
    "hp4<- MakeClusterDotPlot(exp_mat = B_cell_mtx_double_scaled, \n",
    "               percent_mat = B_cell_mtx_double$percent_mat, \n",
    "               col_fun = col_fun, cluster_id = cluster_id,\n",
    "               column_title = \"CD70-/-;Bcl6tg/+\",\n",
    "               column_title_side = \"bottom\",       \n",
    "               row_split = row_split,\n",
    "               row_names_font_size = 8, \n",
    "               column_ha = column_ha,\n",
    "               legend_dot_size = unit(2, \"mm\"),\n",
    "               cluster_rows = FALSE,\n",
    "               column_names_side = \"top\",  cluster_columns = FALSE)\n",
    "\n",
    "draw(hp4 , annotation_legend_list = lgd, ht_gap = unit(1, \"cm\") )\n",
    "\n",
    "dev.off()"
   ]
  },
  {
   "cell_type": "code",
   "execution_count": 70,
   "id": "053fe927",
   "metadata": {},
   "outputs": [
    {
     "data": {
      "text/html": [
       "<strong>png:</strong> 2"
      ],
      "text/latex": [
       "\\textbf{png:} 2"
      ],
      "text/markdown": [
       "**png:** 2"
      ],
      "text/plain": [
       "png \n",
       "  2 "
      ]
     },
     "metadata": {},
     "output_type": "display_data"
    }
   ],
   "source": [
    "pdf(\"./results/figures/5_B_cell_dotplot_final_annotation_aberrant_cells_by_genotype.pdf\", width = 12, height = 6)\n",
    "\n",
    "hp1<- MakeClusterDotPlot(exp_mat = B_cell_mtx_WT_scaled, \n",
    "               percent_mat = B_cell_mtx_WT$percent_mat,\n",
    "               col_fun = col_fun,\n",
    "               cluster_id = cluster_id,              \n",
    "               column_title = \"WT\",\n",
    "               column_title_side = \"bottom\",\n",
    "               row_split = row_split,\n",
    "               row_names_font_size = 8, \n",
    "               column_ha = column_ha,\n",
    "               legend_dot_size = unit(2, \"mm\"),\n",
    "               show_row_dend =FALSE,\n",
    "               show_column_dend = FALSE,\n",
    "               column_names_side = \"top\",\n",
    "               cluster_rows = FALSE,\n",
    "               cluster_columns = FALSE)\n",
    "\n",
    "hp2<- MakeClusterDotPlot(exp_mat = B_cell_mtx_cd70_scaled, \n",
    "               percent_mat = B_cell_mtx_cd70$percent_mat, \n",
    "               col_fun = col_fun, cluster_id = cluster_id,\n",
    "               column_title = \"CD70-/-\",\n",
    "               column_title_side = \"bottom\",\n",
    "               row_split = row_split,\n",
    "               row_names_font_size = 8, \n",
    "               column_ha = column_ha,\n",
    "               legend_dot_size = unit(2, \"mm\"),\n",
    "               cluster_rows = FALSE,\n",
    "               column_names_side = \"top\",  cluster_columns = FALSE)\n",
    "\n",
    "\n",
    "hp3<- MakeClusterDotPlot(exp_mat = B_cell_mtx_single_scaled, \n",
    "               percent_mat = B_cell_mtx_single$percent_mat, \n",
    "               col_fun = col_fun, cluster_id = cluster_id,\n",
    "               column_title = \"Bcl6tg/+\",\n",
    "               column_title_side = \"bottom\",         \n",
    "               row_split = row_split,\n",
    "               row_names_font_size = 8, \n",
    "               column_ha = column_ha,\n",
    "               legend_dot_size = unit(2, \"mm\"),\n",
    "               cluster_rows = FALSE,\n",
    "               column_names_side = \"top\",  cluster_columns = FALSE)\n",
    "\n",
    "hp4<- MakeClusterDotPlot(exp_mat = B_cell_mtx_double_scaled, \n",
    "               percent_mat = B_cell_mtx_double$percent_mat, \n",
    "               col_fun = col_fun, cluster_id = cluster_id,\n",
    "               column_title = \"CD70-/-;Bcl6tg/+\",\n",
    "               column_title_side = \"bottom\",       \n",
    "               row_split = row_split,\n",
    "               row_names_font_size = 8, \n",
    "               column_ha = column_ha,\n",
    "               legend_dot_size = unit(2, \"mm\"),\n",
    "               cluster_rows = FALSE,\n",
    "               column_names_side = \"top\",  cluster_columns = FALSE)\n",
    "\n",
    "draw(hp1 + hp2 + hp3 + hp4 , annotation_legend_list = lgd, ht_gap = unit(1, \"cm\") )\n",
    "\n",
    "dev.off()"
   ]
  }
 ],
 "metadata": {
  "kernelspec": {
   "display_name": "R",
   "language": "R",
   "name": "ir"
  },
  "language_info": {
   "codemirror_mode": "r",
   "file_extension": ".r",
   "mimetype": "text/x-r-source",
   "name": "R",
   "pygments_lexer": "r",
   "version": "4.1.1"
  }
 },
 "nbformat": 4,
 "nbformat_minor": 5
}
