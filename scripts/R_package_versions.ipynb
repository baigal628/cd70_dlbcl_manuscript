{
 "cells": [
  {
   "cell_type": "code",
   "execution_count": 1,
   "id": "8314b32e",
   "metadata": {},
   "outputs": [
    {
     "data": {
      "text/plain": [
       "R version 4.1.1 (2021-08-10)\n",
       "Platform: x86_64-conda-linux-gnu (64-bit)\n",
       "Running under: CentOS Linux 7 (Core)\n",
       "\n",
       "Matrix products: default\n",
       "BLAS/LAPACK: /liulab/galib/miniconda-Py39/envs/MAESTROv1.6.0/lib/libopenblasp-r0.3.20.so\n",
       "\n",
       "locale:\n",
       " [1] LC_CTYPE=en_US.UTF-8       LC_NUMERIC=C              \n",
       " [3] LC_TIME=en_US.UTF-8        LC_COLLATE=en_US.UTF-8    \n",
       " [5] LC_MONETARY=en_US.UTF-8    LC_MESSAGES=en_US.UTF-8   \n",
       " [7] LC_PAPER=en_US.UTF-8       LC_NAME=C                 \n",
       " [9] LC_ADDRESS=C               LC_TELEPHONE=C            \n",
       "[11] LC_MEASUREMENT=en_US.UTF-8 LC_IDENTIFICATION=C       \n",
       "\n",
       "attached base packages:\n",
       "[1] stats     graphics  grDevices utils     datasets  methods   base     \n",
       "\n",
       "loaded via a namespace (and not attached):\n",
       " [1] fansi_1.0.3         crayon_1.5.1        digest_0.6.29      \n",
       " [4] utf8_1.2.2          IRdisplay_1.1       repr_1.1.4         \n",
       " [7] lifecycle_1.0.1     jsonlite_1.8.0      evaluate_0.16      \n",
       "[10] pillar_1.8.1        rlang_1.0.3         cli_3.4.0          \n",
       "[13] uuid_1.1-0          vctrs_0.4.1         IRkernel_1.3.0.9000\n",
       "[16] tools_4.1.1         glue_1.6.2          fastmap_1.1.0      \n",
       "[19] compiler_4.1.1      base64enc_0.1-3     pbdZMQ_0.3-7       \n",
       "[22] htmltools_0.5.3    "
      ]
     },
     "metadata": {},
     "output_type": "display_data"
    }
   ],
   "source": [
    "sessionInfo()"
   ]
  }
 ],
 "metadata": {
  "kernelspec": {
   "display_name": "R",
   "language": "R",
   "name": "ir"
  },
  "language_info": {
   "codemirror_mode": "r",
   "file_extension": ".r",
   "mimetype": "text/x-r-source",
   "name": "R",
   "pygments_lexer": "r",
   "version": "4.1.1"
  }
 },
 "nbformat": 4,
 "nbformat_minor": 5
}
