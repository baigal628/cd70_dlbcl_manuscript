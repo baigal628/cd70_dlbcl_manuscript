{
 "cells": [
  {
   "cell_type": "code",
   "execution_count": null,
   "id": "dbcce0df",
   "metadata": {},
   "outputs": [],
   "source": [
    "set.seed(123)\n",
    "library(sceasy)\n"
   ]
  },
  {
   "cell_type": "markdown",
   "id": "cf933b0d",
   "metadata": {},
   "source": [
    "### non_B_nonT space"
   ]
  },
  {
   "cell_type": "code",
   "execution_count": null,
   "id": "b4c11c89",
   "metadata": {},
   "outputs": [],
   "source": [
    "non_B_non_T_sub<- non_B_non_T_sub_cluster[, sample.int(ncol(non_B_non_T_sub_cluster), size = 2000)]\n",
    "col_sub = non_B_non_T_sub@meta.data  %>% count(seurat_clusters, HEX_code)  %>% pull(HEX_code)\n",
    "DimPlot(object = non_B_non_T_sub, group.by = \"seurat_clusters\", cols = col_sub)\n",
    "\n",
    "df<- data.frame(\"label\" = non_B_non_T_sub$seurat_clusters,  \n",
    "           \"label_color\" = non_B_non_T_sub$HEX_code)  %>% mutate(label = as.factor(label))\n",
    "\n",
    "write.table(df, file = here(\"data/stream/non_B_non_T_sub_2000_metadata.tsv\"), sep = \"\\t\", quote = FALSE)\n",
    "use_condaenv('env_stream')\n",
    "sceasy::convertFormat(non_B_non_T_sub, from=\"seurat\", to=\"anndata\",\n",
    "            outFile='data/stream/non_B_non_T_sub.h5ad')"
   ]
  }
 ],
 "metadata": {
  "kernelspec": {
   "display_name": "R",
   "language": "R",
   "name": "ir"
  },
  "language_info": {
   "codemirror_mode": "r",
   "file_extension": ".r",
   "mimetype": "text/x-r-source",
   "name": "R",
   "pygments_lexer": "r",
   "version": "4.1.1"
  }
 },
 "nbformat": 4,
 "nbformat_minor": 5
}
