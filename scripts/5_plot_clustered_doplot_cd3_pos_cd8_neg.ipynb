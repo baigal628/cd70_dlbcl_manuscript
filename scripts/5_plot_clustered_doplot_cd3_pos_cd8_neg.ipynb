{
 "cells": [
  {
   "cell_type": "code",
   "execution_count": 1,
   "id": "3af31f0c",
   "metadata": {},
   "outputs": [],
   "source": [
    "set.seed(123)"
   ]
  },
  {
   "cell_type": "code",
   "execution_count": 2,
   "id": "ea2ea4e4",
   "metadata": {
    "scrolled": true
   },
   "outputs": [
    {
     "data": {
      "text/html": [
       "'/liulab/galib/dlbcl_manuscript/scripts'"
      ],
      "text/latex": [
       "'/liulab/galib/dlbcl\\_manuscript/scripts'"
      ],
      "text/markdown": [
       "'/liulab/galib/dlbcl_manuscript/scripts'"
      ],
      "text/plain": [
       "[1] \"/liulab/galib/dlbcl_manuscript/scripts\""
      ]
     },
     "metadata": {},
     "output_type": "display_data"
    },
    {
     "name": "stderr",
     "output_type": "stream",
     "text": [
      "Warning message:\n",
      "“package ‘rBCS’ was built under R version 4.1.3”\n",
      "Warning message:\n",
      "“package ‘tidyverse’ was built under R version 4.1.3”\n",
      "── \u001b[1mAttaching packages\u001b[22m ─────────────────────────────────────── tidyverse 1.3.1 ──\n",
      "\n",
      "\u001b[32m✔\u001b[39m \u001b[34mggplot2\u001b[39m 3.3.6      \u001b[32m✔\u001b[39m \u001b[34mpurrr  \u001b[39m 0.3.4 \n",
      "\u001b[32m✔\u001b[39m \u001b[34mtibble \u001b[39m 3.1.8      \u001b[32m✔\u001b[39m \u001b[34mdplyr  \u001b[39m 1.0.10\n",
      "\u001b[32m✔\u001b[39m \u001b[34mtidyr  \u001b[39m 1.2.0      \u001b[32m✔\u001b[39m \u001b[34mstringr\u001b[39m 1.4.1 \n",
      "\u001b[32m✔\u001b[39m \u001b[34mreadr  \u001b[39m 2.1.2      \u001b[32m✔\u001b[39m \u001b[34mforcats\u001b[39m 0.5.1 \n",
      "\n",
      "Warning message:\n",
      "“package ‘tidyr’ was built under R version 4.1.2”\n",
      "Warning message:\n",
      "“package ‘readr’ was built under R version 4.1.2”\n",
      "Warning message:\n",
      "“package ‘forcats’ was built under R version 4.1.3”\n",
      "── \u001b[1mConflicts\u001b[22m ────────────────────────────────────────── tidyverse_conflicts() ──\n",
      "\u001b[31m✖\u001b[39m \u001b[34mdplyr\u001b[39m::\u001b[32mfilter()\u001b[39m masks \u001b[34mstats\u001b[39m::filter()\n",
      "\u001b[31m✖\u001b[39m \u001b[34mdplyr\u001b[39m::\u001b[32mlag()\u001b[39m    masks \u001b[34mstats\u001b[39m::lag()\n",
      "\n",
      "Attaching SeuratObject\n",
      "\n",
      "Attaching sp\n",
      "\n",
      "Warning message:\n",
      "“package ‘harmony’ was built under R version 4.1.3”\n",
      "Loading required package: Rcpp\n",
      "\n",
      "Warning message:\n",
      "“package ‘Rcpp’ was built under R version 4.1.2”\n",
      "Loading required package: viridisLite\n",
      "\n",
      "Warning message:\n",
      "“package ‘RColorBrewer’ was built under R version 4.1.3”\n",
      "Warning message:\n",
      "“package ‘Polychrome’ was built under R version 4.1.3”\n"
     ]
    },
    {
     "data": {
      "text/html": [
       "<style>\n",
       ".list-inline {list-style: none; margin:0; padding: 0}\n",
       ".list-inline>li {display: inline-block}\n",
       ".list-inline>li:not(:last-child)::after {content: \"\\00b7\"; padding: 0 .5ex}\n",
       "</style>\n",
       "<ol class=list-inline><li>'#FF00FF'</li><li>'#F400F4'</li><li>'#EA00EA'</li><li>'#DF00DF'</li><li>'#D500D5'</li><li>'#CA00CA'</li><li>'#BF00BF'</li><li>'#B500B5'</li><li>'#AA00AA'</li><li>'#9F009F'</li><li>'#950095'</li><li>'#8A008A'</li><li>'#800080'</li><li>'#750075'</li><li>'#6A006A'</li><li>'#600060'</li><li>'#550055'</li><li>'#4A004A'</li><li>'#400040'</li><li>'#350035'</li><li>'#2B002B'</li><li>'#200020'</li><li>'#150015'</li><li>'#0B000B'</li><li>'#000000'</li><li>'#000000'</li><li>'#0B0B00'</li><li>'#151500'</li><li>'#202000'</li><li>'#2B2B00'</li><li>'#353500'</li><li>'#404000'</li><li>'#4A4A00'</li><li>'#555500'</li><li>'#606000'</li><li>'#6A6A00'</li><li>'#757500'</li><li>'#808000'</li><li>'#8A8A00'</li><li>'#959500'</li><li>'#9F9F00'</li><li>'#AAAA00'</li><li>'#B5B500'</li><li>'#BFBF00'</li><li>'#CACA00'</li><li>'#D4D400'</li><li>'#DFDF00'</li><li>'#EAEA00'</li><li>'#F4F400'</li><li>'#FFFF00'</li></ol>\n"
      ],
      "text/latex": [
       "\\begin{enumerate*}\n",
       "\\item '\\#FF00FF'\n",
       "\\item '\\#F400F4'\n",
       "\\item '\\#EA00EA'\n",
       "\\item '\\#DF00DF'\n",
       "\\item '\\#D500D5'\n",
       "\\item '\\#CA00CA'\n",
       "\\item '\\#BF00BF'\n",
       "\\item '\\#B500B5'\n",
       "\\item '\\#AA00AA'\n",
       "\\item '\\#9F009F'\n",
       "\\item '\\#950095'\n",
       "\\item '\\#8A008A'\n",
       "\\item '\\#800080'\n",
       "\\item '\\#750075'\n",
       "\\item '\\#6A006A'\n",
       "\\item '\\#600060'\n",
       "\\item '\\#550055'\n",
       "\\item '\\#4A004A'\n",
       "\\item '\\#400040'\n",
       "\\item '\\#350035'\n",
       "\\item '\\#2B002B'\n",
       "\\item '\\#200020'\n",
       "\\item '\\#150015'\n",
       "\\item '\\#0B000B'\n",
       "\\item '\\#000000'\n",
       "\\item '\\#000000'\n",
       "\\item '\\#0B0B00'\n",
       "\\item '\\#151500'\n",
       "\\item '\\#202000'\n",
       "\\item '\\#2B2B00'\n",
       "\\item '\\#353500'\n",
       "\\item '\\#404000'\n",
       "\\item '\\#4A4A00'\n",
       "\\item '\\#555500'\n",
       "\\item '\\#606000'\n",
       "\\item '\\#6A6A00'\n",
       "\\item '\\#757500'\n",
       "\\item '\\#808000'\n",
       "\\item '\\#8A8A00'\n",
       "\\item '\\#959500'\n",
       "\\item '\\#9F9F00'\n",
       "\\item '\\#AAAA00'\n",
       "\\item '\\#B5B500'\n",
       "\\item '\\#BFBF00'\n",
       "\\item '\\#CACA00'\n",
       "\\item '\\#D4D400'\n",
       "\\item '\\#DFDF00'\n",
       "\\item '\\#EAEA00'\n",
       "\\item '\\#F4F400'\n",
       "\\item '\\#FFFF00'\n",
       "\\end{enumerate*}\n"
      ],
      "text/markdown": [
       "1. '#FF00FF'\n",
       "2. '#F400F4'\n",
       "3. '#EA00EA'\n",
       "4. '#DF00DF'\n",
       "5. '#D500D5'\n",
       "6. '#CA00CA'\n",
       "7. '#BF00BF'\n",
       "8. '#B500B5'\n",
       "9. '#AA00AA'\n",
       "10. '#9F009F'\n",
       "11. '#950095'\n",
       "12. '#8A008A'\n",
       "13. '#800080'\n",
       "14. '#750075'\n",
       "15. '#6A006A'\n",
       "16. '#600060'\n",
       "17. '#550055'\n",
       "18. '#4A004A'\n",
       "19. '#400040'\n",
       "20. '#350035'\n",
       "21. '#2B002B'\n",
       "22. '#200020'\n",
       "23. '#150015'\n",
       "24. '#0B000B'\n",
       "25. '#000000'\n",
       "26. '#000000'\n",
       "27. '#0B0B00'\n",
       "28. '#151500'\n",
       "29. '#202000'\n",
       "30. '#2B2B00'\n",
       "31. '#353500'\n",
       "32. '#404000'\n",
       "33. '#4A4A00'\n",
       "34. '#555500'\n",
       "35. '#606000'\n",
       "36. '#6A6A00'\n",
       "37. '#757500'\n",
       "38. '#808000'\n",
       "39. '#8A8A00'\n",
       "40. '#959500'\n",
       "41. '#9F9F00'\n",
       "42. '#AAAA00'\n",
       "43. '#B5B500'\n",
       "44. '#BFBF00'\n",
       "45. '#CACA00'\n",
       "46. '#D4D400'\n",
       "47. '#DFDF00'\n",
       "48. '#EAEA00'\n",
       "49. '#F4F400'\n",
       "50. '#FFFF00'\n",
       "\n",
       "\n"
      ],
      "text/plain": [
       " [1] \"#FF00FF\" \"#F400F4\" \"#EA00EA\" \"#DF00DF\" \"#D500D5\" \"#CA00CA\" \"#BF00BF\"\n",
       " [8] \"#B500B5\" \"#AA00AA\" \"#9F009F\" \"#950095\" \"#8A008A\" \"#800080\" \"#750075\"\n",
       "[15] \"#6A006A\" \"#600060\" \"#550055\" \"#4A004A\" \"#400040\" \"#350035\" \"#2B002B\"\n",
       "[22] \"#200020\" \"#150015\" \"#0B000B\" \"#000000\" \"#000000\" \"#0B0B00\" \"#151500\"\n",
       "[29] \"#202000\" \"#2B2B00\" \"#353500\" \"#404000\" \"#4A4A00\" \"#555500\" \"#606000\"\n",
       "[36] \"#6A6A00\" \"#757500\" \"#808000\" \"#8A8A00\" \"#959500\" \"#9F9F00\" \"#AAAA00\"\n",
       "[43] \"#B5B500\" \"#BFBF00\" \"#CACA00\" \"#D4D400\" \"#DFDF00\" \"#EAEA00\" \"#F4F400\"\n",
       "[50] \"#FFFF00\""
      ]
     },
     "metadata": {},
     "output_type": "display_data"
    },
    {
     "name": "stderr",
     "output_type": "stream",
     "text": [
      "Warning message:\n",
      "“package ‘ComplexHeatmap’ was built under R version 4.1.3”\n",
      "Loading required package: grid\n",
      "\n",
      "========================================\n",
      "ComplexHeatmap version 2.10.0\n",
      "Bioconductor page: http://bioconductor.org/packages/ComplexHeatmap/\n",
      "Github page: https://github.com/jokergoo/ComplexHeatmap\n",
      "Documentation: http://jokergoo.github.io/ComplexHeatmap-reference\n",
      "\n",
      "If you use it in published research, please cite:\n",
      "Gu, Z. Complex heatmaps reveal patterns and correlations in multidimensional \n",
      "  genomic data. Bioinformatics 2016.\n",
      "\n",
      "The new InteractiveComplexHeatmap package can directly export static \n",
      "complex heatmaps into an interactive Shiny app with zero effort. Have a try!\n",
      "\n",
      "This message can be suppressed by:\n",
      "  suppressPackageStartupMessages(library(ComplexHeatmap))\n",
      "========================================\n",
      "\n",
      "\n",
      "Loading required package: usethis\n",
      "\n",
      "Warning message:\n",
      "“package ‘presto’ was built under R version 4.1.3”\n",
      "Loading required package: data.table\n",
      "\n",
      "\n",
      "Attaching package: ‘data.table’\n",
      "\n",
      "\n",
      "The following objects are masked from ‘package:dplyr’:\n",
      "\n",
      "    between, first, last\n",
      "\n",
      "\n",
      "The following object is masked from ‘package:purrr’:\n",
      "\n",
      "    transpose\n",
      "\n",
      "\n",
      "Warning message:\n",
      "“package ‘ggpubr’ was built under R version 4.1.3”\n",
      "Warning message:\n",
      "“package ‘readxl’ was built under R version 4.1.3”\n"
     ]
    }
   ],
   "source": [
    "getwd()\n",
    "setwd(\"/liulab/galib/dlbcl_manuscript/\")\n",
    "library(rBCS)\n",
    "library(tidyverse)\n",
    "library(Seurat)\n",
    "library(harmony)\n",
    "library(viridis)\n",
    "library(RColorBrewer)\n",
    "library(Polychrome)\n",
    "PurpleAndYellow()\n",
    "library(ComplexHeatmap)\n",
    "library(devtools)\n",
    "library(presto)\n",
    "library(dplyr)\n",
    "library(ggplot2)\n",
    "library(ggpubr)\n",
    "library(readxl)\n",
    "source(\"./scripts/scplot.R\")"
   ]
  },
  {
   "cell_type": "code",
   "execution_count": 3,
   "id": "f94225d4",
   "metadata": {
    "scrolled": true
   },
   "outputs": [],
   "source": [
    "cd3_pos_cd8_neg<- readRDS(\"./data/objects/cd3_pos_cd8_neg_final.rds\")"
   ]
  },
  {
   "cell_type": "code",
   "execution_count": 4,
   "id": "c4334e1b",
   "metadata": {},
   "outputs": [],
   "source": [
    "legend_dot_size = unit(2,\"mm\")\n",
    "\n",
    "lgd = Legend(labels = c(0, 10, 25, 50, 75, 100),\n",
    "           title = \"percentage\",\n",
    "           type = \"points\",\n",
    "        graphics = list(\n",
    "    function(x, y, w, h) grid.circle(x, y, r= sqrt(0/100) * legend_dot_size,\n",
    "                                    gp = gpar(fill = \"black\")),\n",
    "    function(x, y, w, h) grid.circle(x, y, r= sqrt(10/100) * legend_dot_size,\n",
    "                                    gp = gpar(fill = \"black\")),\n",
    "    function(x, y, w, h) grid.circle(x, y, r= sqrt(25/100) * legend_dot_size,\n",
    "                                    gp = gpar(fill = \"black\")),\n",
    "    function(x, y, w, h) grid.circle(x, y, r= sqrt(50/100) * legend_dot_size,\n",
    "                                    gp = gpar(fill = \"black\")),\n",
    "    function(x, y, w, h) grid.circle(x, y, r= sqrt(75/100) * legend_dot_size,\n",
    "                                    gp = gpar(fill = \"black\")),\n",
    "    function(x, y, w, h) grid.circle(x, y, r= sqrt(100/100) * legend_dot_size,\n",
    "                                    gp = gpar(fill = \"black\"))            \n",
    "            )\n",
    "     )"
   ]
  },
  {
   "cell_type": "markdown",
   "id": "a72e6f97",
   "metadata": {},
   "source": [
    "## cd3_pos_cd8_neg space"
   ]
  },
  {
   "cell_type": "code",
   "execution_count": 21,
   "id": "357386a6",
   "metadata": {},
   "outputs": [
    {
     "name": "stderr",
     "output_type": "stream",
     "text": [
      "\u001b[1mRows: \u001b[22m\u001b[34m94\u001b[39m \u001b[1mColumns: \u001b[22m\u001b[34m1\u001b[39m\n",
      "\u001b[36m──\u001b[39m \u001b[1mColumn specification\u001b[22m \u001b[36m────────────────────────────────────────────────────────\u001b[39m\n",
      "\u001b[1mDelimiter:\u001b[22m \"\\t\"\n",
      "\u001b[31mchr\u001b[39m (1): X1\n",
      "\n",
      "\u001b[36mℹ\u001b[39m Use `spec()` to retrieve the full column specification for this data.\n",
      "\u001b[36mℹ\u001b[39m Specify the column types or set `show_col_types = FALSE` to quiet this message.\n"
     ]
    },
    {
     "data": {
      "text/html": [],
      "text/latex": [],
      "text/markdown": [],
      "text/plain": [
       "character(0)"
      ]
     },
     "metadata": {},
     "output_type": "display_data"
    }
   ],
   "source": [
    "cd3_pos_cd8_neg_genes<- read_tsv(\"./data/cd3_pos_cd8_neg_genes_to_plot.tsv\", col_names = FALSE)  %>% \n",
    "    pull(X1)\n",
    "\n",
    "cd3_pos_cd8_neg_genes<- str_to_title(cd3_pos_cd8_neg_genes)\n",
    "cd3_pos_cd8_neg_genes<- cd3_pos_cd8_neg_genes  %>% gsub(pattern = \"Aw\", replacement = \"AW\")\n",
    "\n",
    "cd3_pos_cd8_neg_genes[!cd3_pos_cd8_neg_genes %in% rownames(cd3_pos_cd8_neg)]\n",
    "\n",
    "cd3_pos_cd8_neg_genes<- cd3_pos_cd8_neg_genes  %>% unique()"
   ]
  },
  {
   "cell_type": "code",
   "execution_count": 22,
   "id": "a9113268",
   "metadata": {},
   "outputs": [],
   "source": [
    "cd3_pos_cd8_neg_col<- cd3_pos_cd8_neg@meta.data  %>% select(new_annotation, HEX_code)  %>% distinct()"
   ]
  },
  {
   "cell_type": "code",
   "execution_count": 23,
   "id": "84eba891",
   "metadata": {},
   "outputs": [],
   "source": [
    "cd3_pos_cd8_neg_cluster_order<- c(7,5,3,10,1,'4a',12,24,11,17,9,13,6,2,15,8,0,'4b')\n",
    "cd3_pos_cd8_neg$seurat_clusters<- factor(cd3_pos_cd8_neg$seurat_clusters, levels = cd3_pos_cd8_neg_cluster_order)\n",
    "cluster_id<- cd3_pos_cd8_neg@meta.data  %>% arrange(seurat_clusters)  %>% distinct(new_annotation)  %>% pull(new_annotation)\n",
    "cd3_pos_cd8_neg_colors<- cd3_pos_cd8_neg@meta.data  %>% arrange(seurat_clusters)  %>% distinct(HEX_code)  %>% pull(HEX_code)"
   ]
  },
  {
   "cell_type": "markdown",
   "id": "cbdcb746",
   "metadata": {},
   "source": [
    "### All samples"
   ]
  },
  {
   "cell_type": "code",
   "execution_count": 24,
   "id": "4423760d",
   "metadata": {},
   "outputs": [
    {
     "data": {
      "text/html": [
       "<strong>png:</strong> 2"
      ],
      "text/latex": [
       "\\textbf{png:} 2"
      ],
      "text/markdown": [
       "**png:** 2"
      ],
      "text/plain": [
       "png \n",
       "  2 "
      ]
     },
     "metadata": {},
     "output_type": "display_data"
    }
   ],
   "source": [
    "cd3_pos_cd8_neg_mtx<- GetMatrixFromSeurat(cd3_pos_cd8_neg, cd3_pos_cd8_neg_genes, group = \"new_annotation\")\n",
    "\n",
    "column_ha <- HeatmapAnnotation(foo = anno_text(gsub(\"_.*\", \"\", cluster_id), location = 0.5, just = \"center\", \n",
    "                    gp = gpar(fill = setNames(cd3_pos_cd8_neg_colors, gsub(\"_.*\", \"\", cluster_id)), \n",
    "                              col = \"white\", border = NA)), show_annotation_name = FALSE, show_legend = FALSE)\n",
    "\n",
    "col_fun = circlize::colorRamp2(c(-2,0,2), viridis::viridis(3))\n",
    "\n",
    "p<- MakeClusterDotPlot(exp_mat = cd3_pos_cd8_neg_mtx$exp_mat, \n",
    "                       percent_mat = cd3_pos_cd8_neg_mtx$percent_mat,\n",
    "                       cluster_id = cluster_id,\n",
    "                       column_ha = column_ha, col_fun = col_fun,\n",
    "                       column_title_side = \"bottom\",\n",
    "                       column_title = \"CD3+ CD8- Space\", \n",
    "                       row_km = 6,\n",
    "                       row_names_font_size = 8, \n",
    "                       legend_dot_size = unit(2, \"mm\"),\n",
    "                       column_names_side = \"top\",\n",
    "                       show_column_dend = FALSE,\n",
    "                       show_row_dend = FALSE, \n",
    "                       cluster_columns = FALSE)\n",
    "\n",
    "pdf(\"results/figures/5_cd3_pos_cd8_neg_dotplot_final_annotation.pdf\", width = 7, height = 12)\n",
    "set.seed(123)\n",
    "ht = draw(p, annotation_legend_list = lgd)\n",
    "\n",
    "dev.off()"
   ]
  },
  {
   "cell_type": "markdown",
   "id": "1df28809",
   "metadata": {},
   "source": [
    "### Dotplot by genotype"
   ]
  },
  {
   "cell_type": "code",
   "execution_count": 25,
   "id": "0c55b008",
   "metadata": {},
   "outputs": [],
   "source": [
    "cd3_pos_cd8_neg_genes = cd3_pos_cd8_neg_genes[row_order(ht)  %>%  unlist(use.names = FALSE)]"
   ]
  },
  {
   "cell_type": "code",
   "execution_count": 27,
   "id": "08751c18",
   "metadata": {},
   "outputs": [
    {
     "name": "stdout",
     "output_type": "stream",
     "text": [
      "[1] 18\n",
      "[1] 18\n",
      "[1] 18\n",
      "[1] 18\n",
      "[1] 18\n"
     ]
    },
    {
     "data": {
      "text/html": [
       "72"
      ],
      "text/latex": [
       "72"
      ],
      "text/markdown": [
       "72"
      ],
      "text/plain": [
       "[1] 72"
      ]
     },
     "metadata": {},
     "output_type": "display_data"
    }
   ],
   "source": [
    "WT_cells<- rownames(cd3_pos_cd8_neg@meta.data  %>% filter(genotype == \"WT\"))\n",
    "cd70_cells<- rownames(cd3_pos_cd8_neg@meta.data  %>% filter(genotype == \"CD70-/-\"))\n",
    "single_cells<- rownames(cd3_pos_cd8_neg@meta.data  %>% filter(genotype == \"Bcl6tg/+\"))\n",
    "double_cells<- rownames(cd3_pos_cd8_neg@meta.data  %>% filter(genotype == \"CD70-/-;Bcl6tg/+\"))\n",
    "\n",
    "cd3_pos_cd8_neg_mtx<- GetMatrixFromSeurat2(cd3_pos_cd8_neg, cd3_pos_cd8_neg_genes, \n",
    "                                          group = \"new_annotation\")\n",
    "\n",
    "cd3_pos_cd8_neg_mtx_WT<- GetMatrixFromSeurat2(cd3_pos_cd8_neg[,WT_cells], cd3_pos_cd8_neg_genes, \n",
    "                                          group = \"new_annotation\")\n",
    "\n",
    "cd3_pos_cd8_neg_mtx_cd70<- GetMatrixFromSeurat2(cd3_pos_cd8_neg[,cd70_cells], cd3_pos_cd8_neg_genes, \n",
    "                                          group = \"new_annotation\")\n",
    "\n",
    "cd3_pos_cd8_neg_mtx_single<- GetMatrixFromSeurat2(cd3_pos_cd8_neg[,single_cells], cd3_pos_cd8_neg_genes, \n",
    "                                          group = \"new_annotation\")\n",
    "\n",
    "cd3_pos_cd8_neg_mtx_double<- GetMatrixFromSeurat2(cd3_pos_cd8_neg[,double_cells], cd3_pos_cd8_neg_genes, \n",
    "                                          group = \"new_annotation\")\n",
    "\n",
    "cd3_pos_cd8_neg_combined<- cbind(cd3_pos_cd8_neg_mtx_WT$exp_mat, cd3_pos_cd8_neg_mtx_cd70$exp_mat, \n",
    "                                 cd3_pos_cd8_neg_mtx_single$exp_mat, cd3_pos_cd8_neg_mtx_double$exp_mat)\n",
    "\n",
    "cd3_pos_cd8_neg_combined_scaled<- t(apply(cd3_pos_cd8_neg_combined, 1, scale))\n",
    "cd3_pos_cd8_neg_combined_scaled<- cd3_pos_cd8_neg_combined_scaled  %>% replace(is.na(.),0)\n",
    "# cd3_pos_cd8_neg_combined_scaled = cd3_pos_cd8_neg_combined_scaled[row_order(ht)  %>%  unlist(use.names = FALSE), ]\n",
    "\n",
    "ncol(cd3_pos_cd8_neg_combined_scaled)\n",
    "cd3_pos_cd8_neg_mtx_WT_scaled<-  cd3_pos_cd8_neg_combined_scaled[, 1:18]\n",
    "cd3_pos_cd8_neg_mtx_cd70_scaled<-  cd3_pos_cd8_neg_combined_scaled[, 19:36]\n",
    "cd3_pos_cd8_neg_mtx_single_scaled<-  cd3_pos_cd8_neg_combined_scaled[, 37:54]\n",
    "cd3_pos_cd8_neg_mtx_double_scaled<-  cd3_pos_cd8_neg_combined_scaled[, 55:72]\n",
    "\n",
    "colnames(cd3_pos_cd8_neg_mtx_WT_scaled)<- colnames(cd3_pos_cd8_neg_mtx$exp_mat)\n",
    "colnames(cd3_pos_cd8_neg_mtx_cd70_scaled)<- colnames(cd3_pos_cd8_neg_mtx$exp_mat)\n",
    "colnames(cd3_pos_cd8_neg_mtx_single_scaled)<- colnames(cd3_pos_cd8_neg_mtx$exp_mat)\n",
    "colnames(cd3_pos_cd8_neg_mtx_double_scaled)<- colnames(cd3_pos_cd8_neg_mtx$exp_mat)"
   ]
  },
  {
   "cell_type": "code",
   "execution_count": 28,
   "id": "5f34fdcb",
   "metadata": {},
   "outputs": [
    {
     "data": {
      "text/html": [
       "<strong>png:</strong> 2"
      ],
      "text/latex": [
       "\\textbf{png:} 2"
      ],
      "text/markdown": [
       "**png:** 2"
      ],
      "text/plain": [
       "png \n",
       "  2 "
      ]
     },
     "metadata": {},
     "output_type": "display_data"
    }
   ],
   "source": [
    "row_split = factor(rep(names(row_order(ht)), lengths(row_order(ht))), levels = names(row_order(ht)))\n",
    "\n",
    "pdf(\"./results/figures/5_cd3_pos_cd8_neg_dotplot_final_annotation_by_genotype.pdf\", width = 20, height = 12)\n",
    "\n",
    "hp1<- MakeClusterDotPlot(exp_mat = cd3_pos_cd8_neg_mtx_WT_scaled, \n",
    "               percent_mat = cd3_pos_cd8_neg_mtx_WT$percent_mat, \n",
    "               col_fun = col_fun,\n",
    "               cluster_id = cluster_id,              \n",
    "               column_title = \"WT\",\n",
    "               column_title_side = \"bottom\",\n",
    "               row_split = row_split,\n",
    "               row_names_font_size = 8, \n",
    "               column_ha = column_ha,\n",
    "               legend_dot_size = unit(2, \"mm\"),\n",
    "               show_row_dend =FALSE,\n",
    "               show_column_dend = FALSE,\n",
    "               column_names_side = \"top\",\n",
    "               cluster_rows = FALSE, cluster_columns = FALSE)\n",
    "\n",
    "hp2<- MakeClusterDotPlot(exp_mat = cd3_pos_cd8_neg_mtx_cd70_scaled, \n",
    "               percent_mat = cd3_pos_cd8_neg_mtx_cd70$percent_mat, \n",
    "               col_fun = col_fun, cluster_id = cluster_id,\n",
    "               column_title = \"CD70-/-\",\n",
    "               column_title_side = \"bottom\",\n",
    "               row_split = row_split,\n",
    "               row_names_font_size = 8, \n",
    "               column_ha = column_ha,\n",
    "               legend_dot_size = unit(2, \"mm\"),\n",
    "               column_names_side = \"top\", cluster_rows = FALSE, cluster_columns = FALSE)\n",
    "\n",
    "hp3<- MakeClusterDotPlot(exp_mat = cd3_pos_cd8_neg_mtx_single_scaled, \n",
    "               percent_mat = cd3_pos_cd8_neg_mtx_single$percent_mat, \n",
    "               col_fun = col_fun, cluster_id = cluster_id,\n",
    "               column_title = \"Bcl6tg/+\",\n",
    "               column_title_side = \"bottom\",         \n",
    "               row_split = row_split,\n",
    "               row_names_font_size = 8, \n",
    "               column_ha = column_ha,\n",
    "               legend_dot_size = unit(2, \"mm\"),\n",
    "               column_names_side = \"top\", cluster_rows = FALSE, cluster_columns = FALSE)\n",
    "\n",
    "hp4<- MakeClusterDotPlot(exp_mat = cd3_pos_cd8_neg_mtx_double_scaled, \n",
    "               percent_mat = cd3_pos_cd8_neg_mtx_double$percent_mat, \n",
    "               col_fun = col_fun, cluster_id = cluster_id,\n",
    "               column_title = \"CD70-/-;Bcl6tg/+\",\n",
    "               column_title_side = \"bottom\",         \n",
    "               row_split = row_split,\n",
    "               row_names_font_size = 8, \n",
    "               column_ha = column_ha,\n",
    "               legend_dot_size = unit(2, \"mm\"),\n",
    "               column_names_side = \"top\", cluster_rows = FALSE, cluster_columns = FALSE)\n",
    "\n",
    "draw(hp1 + hp2 + hp3 + hp4 , annotation_legend_list = lgd, ht_gap = unit(1, \"cm\") )\n",
    "dev.off()"
   ]
  },
  {
   "cell_type": "markdown",
   "id": "595105ca",
   "metadata": {},
   "source": [
    "### Dotplot by age"
   ]
  },
  {
   "cell_type": "code",
   "execution_count": 29,
   "id": "75595616",
   "metadata": {},
   "outputs": [
    {
     "name": "stdout",
     "output_type": "stream",
     "text": [
      "[1] 18\n",
      "[1] 18\n",
      "[1] 18\n",
      "[1] 18\n",
      "[1] 18\n"
     ]
    },
    {
     "data": {
      "text/html": [
       "72"
      ],
      "text/latex": [
       "72"
      ],
      "text/markdown": [
       "72"
      ],
      "text/plain": [
       "[1] 72"
      ]
     },
     "metadata": {},
     "output_type": "display_data"
    }
   ],
   "source": [
    "n_6mos_cells<- rownames(cd3_pos_cd8_neg@meta.data  %>% filter(age == \"6mos\"))\n",
    "n_14mos_cells<- rownames(cd3_pos_cd8_neg@meta.data  %>% filter(age == \"14mos\"))\n",
    "n_18mos_cells<- rownames(cd3_pos_cd8_neg@meta.data  %>% filter(age == \"18mos\"))\n",
    "sick_cells<- rownames(cd3_pos_cd8_neg@meta.data  %>% filter(age == \"sick\"))\n",
    "\n",
    "cd3_pos_cd8_neg_mtx<- GetMatrixFromSeurat2(cd3_pos_cd8_neg, cd3_pos_cd8_neg_genes, \n",
    "                                          group = \"new_annotation\")\n",
    "\n",
    "cd3_pos_cd8_neg_mtx_6mos<- GetMatrixFromSeurat2(cd3_pos_cd8_neg[,n_6mos_cells], cd3_pos_cd8_neg_genes, \n",
    "                                          group = \"new_annotation\")\n",
    "\n",
    "cd3_pos_cd8_neg_mtx_14mos<- GetMatrixFromSeurat2(cd3_pos_cd8_neg[,n_14mos_cells], cd3_pos_cd8_neg_genes, \n",
    "                                          group = \"new_annotation\")\n",
    "\n",
    "cd3_pos_cd8_neg_mtx_18mos<- GetMatrixFromSeurat2(cd3_pos_cd8_neg[,n_18mos_cells], cd3_pos_cd8_neg_genes, \n",
    "                                          group = \"new_annotation\")\n",
    "\n",
    "cd3_pos_cd8_neg_mtx_sick<- GetMatrixFromSeurat2(cd3_pos_cd8_neg[,sick_cells], cd3_pos_cd8_neg_genes, \n",
    "                                          group = \"new_annotation\")\n",
    "\n",
    "cd3_pos_cd8_neg_combined<- cbind(cd3_pos_cd8_neg_mtx_6mos$exp_mat, cd3_pos_cd8_neg_mtx_14mos$exp_mat, \n",
    "                                 cd3_pos_cd8_neg_mtx_18mos$exp_mat, cd3_pos_cd8_neg_mtx_sick$exp_mat)\n",
    "\n",
    "cd3_pos_cd8_neg_combined_scaled<- t(apply(cd3_pos_cd8_neg_combined, 1, scale))\n",
    "cd3_pos_cd8_neg_combined_scaled<- cd3_pos_cd8_neg_combined_scaled  %>% replace(is.na(.),0)\n",
    "# cd3_pos_cd8_neg_combined_scaled = cd3_pos_cd8_neg_combined_scaled[row_order(ht)  %>%  unlist(use.names = FALSE), ]\n",
    "\n",
    "\n",
    "ncol(cd3_pos_cd8_neg_combined_scaled)\n",
    "cd3_pos_cd8_neg_mtx_6mos_scaled<-  cd3_pos_cd8_neg_combined_scaled[, 1:18]\n",
    "cd3_pos_cd8_neg_mtx_14mos_scaled<-  cd3_pos_cd8_neg_combined_scaled[, 19:36]\n",
    "cd3_pos_cd8_neg_mtx_18mos_scaled<-  cd3_pos_cd8_neg_combined_scaled[, 37:54]\n",
    "cd3_pos_cd8_neg_mtx_sick_scaled<-  cd3_pos_cd8_neg_combined_scaled[, 55:72]\n",
    "\n",
    "colnames(cd3_pos_cd8_neg_mtx_6mos_scaled)<- colnames(cd3_pos_cd8_neg_mtx$exp_mat)\n",
    "colnames(cd3_pos_cd8_neg_mtx_14mos_scaled)<- colnames(cd3_pos_cd8_neg_mtx$exp_mat)\n",
    "colnames(cd3_pos_cd8_neg_mtx_18mos_scaled)<- colnames(cd3_pos_cd8_neg_mtx$exp_mat)\n",
    "colnames(cd3_pos_cd8_neg_mtx_sick_scaled)<- colnames(cd3_pos_cd8_neg_mtx$exp_mat)"
   ]
  },
  {
   "cell_type": "code",
   "execution_count": 30,
   "id": "e65334c1",
   "metadata": {},
   "outputs": [
    {
     "data": {
      "text/html": [
       "<strong>png:</strong> 2"
      ],
      "text/latex": [
       "\\textbf{png:} 2"
      ],
      "text/markdown": [
       "**png:** 2"
      ],
      "text/plain": [
       "png \n",
       "  2 "
      ]
     },
     "metadata": {},
     "output_type": "display_data"
    }
   ],
   "source": [
    "pdf(\"./results/figures/5_cd3_pos_cd8_neg_dotplot_final_annotation_by_age.pdf\", width = 20, height = 12)\n",
    "\n",
    "hp1<- MakeClusterDotPlot(exp_mat = cd3_pos_cd8_neg_mtx_6mos_scaled, \n",
    "           percent_mat = cd3_pos_cd8_neg_mtx_6mos$percent_mat,\n",
    "           col_fun = col_fun, cluster_id = cluster_id,\n",
    "           column_title = \"6mos\",\n",
    "           column_title_side = \"bottom\",\n",
    "           row_split = row_split,\n",
    "           row_names_font_size = 8, \n",
    "           column_ha = column_ha,\n",
    "           legend_dot_size = unit(2, \"mm\"),\n",
    "           show_row_dend =FALSE,\n",
    "           show_column_dend = FALSE,\n",
    "           column_names_side = \"top\", cluster_rows = FALSE, cluster_columns=FALSE)\n",
    "\n",
    "hp2<- MakeClusterDotPlot(exp_mat = cd3_pos_cd8_neg_mtx_14mos_scaled, \n",
    "               percent_mat = cd3_pos_cd8_neg_mtx_14mos$percent_mat, \n",
    "               col_fun = col_fun, cluster_id = cluster_id,\n",
    "               column_title = \"14mos\",\n",
    "               column_title_side = \"bottom\",\n",
    "               row_split = row_split,\n",
    "               row_names_font_size = 8, \n",
    "               column_ha = column_ha,\n",
    "               legend_dot_size = unit(2, \"mm\"),\n",
    "               column_names_side = \"top\", cluster_rows = FALSE, cluster_columns=FALSE)\n",
    "\n",
    "hp3<- MakeClusterDotPlot(exp_mat = cd3_pos_cd8_neg_mtx_18mos_scaled, \n",
    "               percent_mat = cd3_pos_cd8_neg_mtx_18mos$percent_mat, \n",
    "               col_fun = col_fun, cluster_id = cluster_id,\n",
    "               column_title = \"18mos\",\n",
    "               column_title_side = \"bottom\",         \n",
    "               row_split = row_split,\n",
    "               row_names_font_size = 8, \n",
    "               column_ha = column_ha,\n",
    "               legend_dot_size = unit(2, \"mm\"),\n",
    "               column_names_side = \"top\", cluster_rows = FALSE, cluster_columns=FALSE)\n",
    "\n",
    "hp4<- MakeClusterDotPlot(exp_mat = cd3_pos_cd8_neg_mtx_sick_scaled, \n",
    "               percent_mat = cd3_pos_cd8_neg_mtx_sick$percent_mat, \n",
    "               col_fun = col_fun, cluster_id = cluster_id,\n",
    "               column_title = \"sick\",\n",
    "               column_title_side = \"bottom\",         \n",
    "               row_split = row_split,\n",
    "               row_names_font_size = 8, \n",
    "               column_ha = column_ha,\n",
    "               legend_dot_size = unit(2, \"mm\"),\n",
    "               column_names_side = \"top\", cluster_rows = FALSE, cluster_columns=FALSE)\n",
    "\n",
    "draw(hp1 + hp2 + hp3 + hp4 , annotation_legend_list = lgd, ht_gap = unit(1, \"cm\") )\n",
    "dev.off()"
   ]
  },
  {
   "cell_type": "markdown",
   "id": "9c3d97f7",
   "metadata": {},
   "source": [
    "### By age and genotype"
   ]
  },
  {
   "cell_type": "markdown",
   "id": "e46c9f4f",
   "metadata": {},
   "source": [
    "- 6mos (WT, CD70-/-, Bcl6tg/+, CD70-/-;Bcl6tg/+)"
   ]
  },
  {
   "cell_type": "code",
   "execution_count": 31,
   "id": "05a40b55",
   "metadata": {},
   "outputs": [
    {
     "name": "stdout",
     "output_type": "stream",
     "text": [
      "[1] 18\n",
      "[1] 18\n",
      "[1] 18\n",
      "[1] 18\n",
      "[1] 18\n"
     ]
    },
    {
     "data": {
      "text/html": [
       "72"
      ],
      "text/latex": [
       "72"
      ],
      "text/markdown": [
       "72"
      ],
      "text/plain": [
       "[1] 72"
      ]
     },
     "metadata": {},
     "output_type": "display_data"
    },
    {
     "data": {
      "text/html": [
       "<strong>png:</strong> 2"
      ],
      "text/latex": [
       "\\textbf{png:} 2"
      ],
      "text/markdown": [
       "**png:** 2"
      ],
      "text/plain": [
       "png \n",
       "  2 "
      ]
     },
     "metadata": {},
     "output_type": "display_data"
    }
   ],
   "source": [
    "n_6mos_WT_cells<- rownames(cd3_pos_cd8_neg@meta.data  %>% filter(age == \"6mos\", genotype == \"WT\"))\n",
    "n_6mos_cd70_cells<- rownames(cd3_pos_cd8_neg@meta.data  %>% filter(age == \"6mos\", genotype == \"CD70-/-\"))\n",
    "n_6mos_single_cells<- rownames(cd3_pos_cd8_neg@meta.data  %>% filter(age == \"6mos\", genotype == \"Bcl6tg/+\"))\n",
    "n_6mos_double_cells<- rownames(cd3_pos_cd8_neg@meta.data  %>% filter(age == \"6mos\", genotype == \"CD70-/-;Bcl6tg/+\"))\n",
    "\n",
    "cd3_pos_cd8_neg_mtx<- GetMatrixFromSeurat2(cd3_pos_cd8_neg, cd3_pos_cd8_neg_genes, \n",
    "                                          group = \"new_annotation\")\n",
    "\n",
    "cd3_pos_cd8_neg_mtx_6mos_WT<- GetMatrixFromSeurat2(cd3_pos_cd8_neg[,n_6mos_WT_cells], cd3_pos_cd8_neg_genes, \n",
    "                                          group = \"new_annotation\")\n",
    "\n",
    "cd3_pos_cd8_neg_mtx_6mos_cd70<- GetMatrixFromSeurat2(cd3_pos_cd8_neg[,n_6mos_cd70_cells], cd3_pos_cd8_neg_genes, \n",
    "                                          group = \"new_annotation\")\n",
    "\n",
    "cd3_pos_cd8_neg_mtx_6mos_single<- GetMatrixFromSeurat2(cd3_pos_cd8_neg[,n_6mos_single_cells], cd3_pos_cd8_neg_genes, \n",
    "                                          group = \"new_annotation\")\n",
    "\n",
    "cd3_pos_cd8_neg_mtx_6mos_double<- GetMatrixFromSeurat2(cd3_pos_cd8_neg[,n_6mos_double_cells], cd3_pos_cd8_neg_genes, \n",
    "                                          group = \"new_annotation\")\n",
    "\n",
    "cd3_pos_cd8_neg_combined<- cbind(cd3_pos_cd8_neg_mtx_6mos_WT$exp_mat,\n",
    "                        cd3_pos_cd8_neg_mtx_6mos_cd70$exp_mat,\n",
    "                        cd3_pos_cd8_neg_mtx_6mos_single$exp_mat,\n",
    "                        cd3_pos_cd8_neg_mtx_6mos_double$exp_mat)\n",
    "\n",
    "cd3_pos_cd8_neg_combined_scaled<- t(apply(cd3_pos_cd8_neg_combined, 1, scale))\n",
    "cd3_pos_cd8_neg_combined_scaled<- cd3_pos_cd8_neg_combined_scaled  %>% replace(is.na(.),0)\n",
    "# cd3_pos_cd8_neg_combined_scaled = cd3_pos_cd8_neg_combined_scaled[row_order(ht)  %>%  unlist(use.names = FALSE), ]\n",
    "\n",
    "\n",
    "ncol(cd3_pos_cd8_neg_combined_scaled)\n",
    "cd3_pos_cd8_neg_mtx_6mos_WT_scaled<-  cd3_pos_cd8_neg_combined_scaled[, 1:18]\n",
    "cd3_pos_cd8_neg_mtx_6mos_cd70_scaled<-  cd3_pos_cd8_neg_combined_scaled[, 19:36]\n",
    "cd3_pos_cd8_neg_mtx_6mos_single_scaled<-  cd3_pos_cd8_neg_combined_scaled[, 37:54]\n",
    "cd3_pos_cd8_neg_mtx_6mos_double_scaled<-  cd3_pos_cd8_neg_combined_scaled[, 55:72]\n",
    "\n",
    "colnames(cd3_pos_cd8_neg_mtx_6mos_WT_scaled)<- colnames(cd3_pos_cd8_neg_mtx$exp_mat)\n",
    "colnames(cd3_pos_cd8_neg_mtx_6mos_cd70_scaled)<- colnames(cd3_pos_cd8_neg_mtx$exp_mat)\n",
    "colnames(cd3_pos_cd8_neg_mtx_6mos_single_scaled)<- colnames(cd3_pos_cd8_neg_mtx$exp_mat)\n",
    "colnames(cd3_pos_cd8_neg_mtx_6mos_double_scaled)<- colnames(cd3_pos_cd8_neg_mtx$exp_mat)\n",
    "\n",
    "pdf(\"./results/figures/5_cd3_pos_cd8_neg_dotplot_final_annotation_6mos_by_genotype.pdf\", width = 20, height = 12)\n",
    "\n",
    "hp1<- MakeClusterDotPlot(exp_mat = cd3_pos_cd8_neg_mtx_6mos_WT_scaled, \n",
    "               percent_mat = cd3_pos_cd8_neg_mtx_6mos_WT$percent_mat, \n",
    "               col_fun = col_fun,\n",
    "               cluster_id = cluster_id,              \n",
    "               column_title = \"6mos WT\",\n",
    "               column_title_side = \"bottom\",\n",
    "               row_split = row_split,\n",
    "               row_names_font_size = 8, \n",
    "               column_ha = column_ha,\n",
    "               legend_dot_size = unit(2, \"mm\"),\n",
    "               show_row_dend =FALSE,\n",
    "               show_column_dend = FALSE,\n",
    "               column_names_side = \"top\",\n",
    "               cluster_rows = FALSE, cluster_columns = FALSE)\n",
    "\n",
    "hp2<- MakeClusterDotPlot(exp_mat = cd3_pos_cd8_neg_mtx_6mos_cd70_scaled, \n",
    "               percent_mat = cd3_pos_cd8_neg_mtx_6mos_cd70$percent_mat, \n",
    "               col_fun = col_fun, cluster_id = cluster_id,\n",
    "               column_title = \"6mos CD70-/-\",\n",
    "               column_title_side = \"bottom\",\n",
    "               row_split = row_split,\n",
    "               row_names_font_size = 8, \n",
    "               column_ha = column_ha,\n",
    "               legend_dot_size = unit(2, \"mm\"),\n",
    "               column_names_side = \"top\", cluster_rows = FALSE, cluster_columns = FALSE)\n",
    "\n",
    "hp3<- MakeClusterDotPlot(exp_mat = cd3_pos_cd8_neg_mtx_6mos_single_scaled, \n",
    "               percent_mat = cd3_pos_cd8_neg_mtx_6mos_single$percent_mat, \n",
    "               col_fun = col_fun, cluster_id = cluster_id,\n",
    "               column_title = \"6mos Bcl6tg/+\",\n",
    "               column_title_side = \"bottom\",         \n",
    "               row_split = row_split,\n",
    "               row_names_font_size = 8, \n",
    "               column_ha = column_ha,\n",
    "               legend_dot_size = unit(2, \"mm\"),\n",
    "               column_names_side = \"top\", cluster_rows = FALSE, cluster_columns = FALSE)\n",
    "\n",
    "hp4<- MakeClusterDotPlot(exp_mat = cd3_pos_cd8_neg_mtx_6mos_double_scaled, \n",
    "               percent_mat = cd3_pos_cd8_neg_mtx_6mos_double$percent_mat, \n",
    "               col_fun = col_fun, cluster_id = cluster_id,\n",
    "               column_title = \"6mos CD70-/-;Bcl6tg/+\",\n",
    "               column_title_side = \"bottom\",         \n",
    "               row_split = row_split,\n",
    "               row_names_font_size = 8, \n",
    "               column_ha = column_ha,\n",
    "               legend_dot_size = unit(2, \"mm\"),\n",
    "               column_names_side = \"top\", cluster_rows = FALSE, cluster_columns = FALSE)\n",
    "\n",
    "draw(hp1 + hp2 + hp3 + hp4 , annotation_legend_list = lgd, ht_gap = unit(1, \"cm\") )\n",
    "dev.off()"
   ]
  },
  {
   "cell_type": "markdown",
   "id": "73e0019f",
   "metadata": {},
   "source": [
    "- 14mos (WT, CD70-/-, Bcl6tg/+, CD70-/-;Bcl6tg/+)"
   ]
  },
  {
   "cell_type": "code",
   "execution_count": 32,
   "id": "df86f8b2",
   "metadata": {},
   "outputs": [
    {
     "name": "stdout",
     "output_type": "stream",
     "text": [
      "[1] 18\n",
      "[1] 18\n",
      "[1] 18\n",
      "[1] 18\n"
     ]
    },
    {
     "data": {
      "text/html": [
       "72"
      ],
      "text/latex": [
       "72"
      ],
      "text/markdown": [
       "72"
      ],
      "text/plain": [
       "[1] 72"
      ]
     },
     "metadata": {},
     "output_type": "display_data"
    },
    {
     "data": {
      "text/html": [
       "<strong>png:</strong> 2"
      ],
      "text/latex": [
       "\\textbf{png:} 2"
      ],
      "text/markdown": [
       "**png:** 2"
      ],
      "text/plain": [
       "png \n",
       "  2 "
      ]
     },
     "metadata": {},
     "output_type": "display_data"
    }
   ],
   "source": [
    "n_14mos_WT_cells<- rownames(cd3_pos_cd8_neg@meta.data  %>% filter(age == \"14mos\", genotype == \"WT\"))\n",
    "n_14mos_cd70_cells<- rownames(cd3_pos_cd8_neg@meta.data  %>% filter(age == \"14mos\", genotype == \"CD70-/-\"))\n",
    "n_14mos_single_cells<- rownames(cd3_pos_cd8_neg@meta.data  %>% filter(age == \"14mos\", genotype == \"Bcl6tg/+\"))\n",
    "n_14mos_double_cells<- rownames(cd3_pos_cd8_neg@meta.data  %>% filter(age == \"14mos\", genotype == \"CD70-/-;Bcl6tg/+\"))\n",
    "\n",
    "cd3_pos_cd8_neg_mtx<- GetMatrixFromSeurat(cd3_pos_cd8_neg, cd3_pos_cd8_neg_genes, \n",
    "                                          group = \"new_annotation\")\n",
    "\n",
    "cd3_pos_cd8_neg_mtx_14mos_WT<- GetMatrixFromSeurat2(cd3_pos_cd8_neg[,n_14mos_WT_cells], cd3_pos_cd8_neg_genes, \n",
    "                                          group = \"new_annotation\")\n",
    "\n",
    "cd3_pos_cd8_neg_mtx_14mos_cd70<- GetMatrixFromSeurat2(cd3_pos_cd8_neg[,n_14mos_cd70_cells], cd3_pos_cd8_neg_genes, \n",
    "                                          group = \"new_annotation\")\n",
    "\n",
    "cd3_pos_cd8_neg_mtx_14mos_single<- GetMatrixFromSeurat2(cd3_pos_cd8_neg[,n_14mos_single_cells], cd3_pos_cd8_neg_genes, \n",
    "                                          group = \"new_annotation\")\n",
    "\n",
    "cd3_pos_cd8_neg_mtx_14mos_double<- GetMatrixFromSeurat2(cd3_pos_cd8_neg[,n_14mos_double_cells], cd3_pos_cd8_neg_genes, \n",
    "                                          group = \"new_annotation\")\n",
    "\n",
    "cd3_pos_cd8_neg_combined<- cbind(cd3_pos_cd8_neg_mtx_14mos_WT$exp_mat,\n",
    "                        cd3_pos_cd8_neg_mtx_14mos_cd70$exp_mat,\n",
    "                        cd3_pos_cd8_neg_mtx_14mos_single$exp_mat,\n",
    "                        cd3_pos_cd8_neg_mtx_14mos_double$exp_mat)\n",
    "\n",
    "cd3_pos_cd8_neg_combined_scaled<- t(apply(cd3_pos_cd8_neg_combined, 1, scale))\n",
    "cd3_pos_cd8_neg_combined_scaled<- cd3_pos_cd8_neg_combined_scaled  %>% replace(is.na(.),0)\n",
    "# cd3_pos_cd8_neg_combined_scaled = cd3_pos_cd8_neg_combined_scaled[row_order(ht)  %>%  unlist(use.names = FALSE), ]\n",
    "\n",
    "\n",
    "ncol(cd3_pos_cd8_neg_combined_scaled)\n",
    "cd3_pos_cd8_neg_mtx_14mos_WT_scaled<-  cd3_pos_cd8_neg_combined_scaled[, 1:18]\n",
    "cd3_pos_cd8_neg_mtx_14mos_cd70_scaled<-  cd3_pos_cd8_neg_combined_scaled[, 19:36]\n",
    "cd3_pos_cd8_neg_mtx_14mos_single_scaled<-  cd3_pos_cd8_neg_combined_scaled[, 37:54]\n",
    "cd3_pos_cd8_neg_mtx_14mos_double_scaled<-  cd3_pos_cd8_neg_combined_scaled[, 55:72]\n",
    "\n",
    "colnames(cd3_pos_cd8_neg_mtx_14mos_WT_scaled)<- colnames(cd3_pos_cd8_neg_mtx$exp_mat)\n",
    "colnames(cd3_pos_cd8_neg_mtx_14mos_cd70_scaled)<- colnames(cd3_pos_cd8_neg_mtx$exp_mat)\n",
    "colnames(cd3_pos_cd8_neg_mtx_14mos_single_scaled)<- colnames(cd3_pos_cd8_neg_mtx$exp_mat)\n",
    "colnames(cd3_pos_cd8_neg_mtx_14mos_double_scaled)<- colnames(cd3_pos_cd8_neg_mtx$exp_mat)\n",
    "\n",
    "pdf(\"./results/figures/5_cd3_pos_cd8_neg_dotplot_final_annotation_14mos_by_genotype.pdf\", width = 20, height = 12)\n",
    "\n",
    "hp1<- MakeClusterDotPlot(exp_mat = cd3_pos_cd8_neg_mtx_14mos_WT_scaled, \n",
    "               percent_mat = cd3_pos_cd8_neg_mtx_14mos_WT$percent_mat, \n",
    "               col_fun = col_fun,\n",
    "               cluster_id = cluster_id,              \n",
    "               column_title = \"14mos WT\",\n",
    "               column_title_side = \"bottom\",\n",
    "               row_split = row_split,\n",
    "               row_names_font_size = 8, \n",
    "               column_ha = column_ha,\n",
    "               legend_dot_size = unit(2, \"mm\"),\n",
    "               show_row_dend =FALSE,\n",
    "               show_column_dend = FALSE,\n",
    "               column_names_side = \"top\",\n",
    "               cluster_rows = FALSE, cluster_columns = FALSE)\n",
    "\n",
    "hp2<- MakeClusterDotPlot(exp_mat = cd3_pos_cd8_neg_mtx_14mos_cd70_scaled, \n",
    "               percent_mat = cd3_pos_cd8_neg_mtx_14mos_cd70$percent_mat, \n",
    "               col_fun = col_fun, cluster_id = cluster_id,\n",
    "               column_title = \"14mos CD70-/-\",\n",
    "               column_title_side = \"bottom\",\n",
    "               row_split = row_split,\n",
    "               row_names_font_size = 8, \n",
    "               column_ha = column_ha,\n",
    "               legend_dot_size = unit(2, \"mm\"),\n",
    "               column_names_side = \"top\", cluster_rows = FALSE, cluster_columns = FALSE)\n",
    "\n",
    "hp3<- MakeClusterDotPlot(exp_mat = cd3_pos_cd8_neg_mtx_14mos_single_scaled, \n",
    "               percent_mat = cd3_pos_cd8_neg_mtx_14mos_single$percent_mat, \n",
    "               col_fun = col_fun, cluster_id = cluster_id,\n",
    "               column_title = \"14mos Bcl6tg/+\",\n",
    "               column_title_side = \"bottom\",         \n",
    "               row_split = row_split,\n",
    "               row_names_font_size = 8, \n",
    "               column_ha = column_ha,\n",
    "               legend_dot_size = unit(2, \"mm\"),\n",
    "               column_names_side = \"top\", cluster_rows = FALSE, cluster_columns = FALSE)\n",
    "\n",
    "hp4<- MakeClusterDotPlot(exp_mat = cd3_pos_cd8_neg_mtx_14mos_double_scaled, \n",
    "               percent_mat = cd3_pos_cd8_neg_mtx_14mos_double$percent_mat, \n",
    "               col_fun = col_fun, cluster_id = cluster_id,\n",
    "               column_title = \"14mos CD70-/-;Bcl6tg/+\",\n",
    "               column_title_side = \"bottom\",         \n",
    "               row_split = row_split,\n",
    "               row_names_font_size = 8, \n",
    "               column_ha = column_ha,\n",
    "               legend_dot_size = unit(2, \"mm\"),\n",
    "               column_names_side = \"top\", cluster_rows = FALSE, cluster_columns = FALSE)\n",
    "\n",
    "draw(hp1 + hp2 + hp3 + hp4 , annotation_legend_list = lgd, ht_gap = unit(1, \"cm\") )\n",
    "dev.off()"
   ]
  },
  {
   "cell_type": "markdown",
   "id": "67826130",
   "metadata": {},
   "source": [
    "- 18mos (WT, CD70-/-, Bcl6tg/+, CD70-/-;Bcl6tg/+)"
   ]
  },
  {
   "cell_type": "code",
   "execution_count": 33,
   "id": "d3b5e56f",
   "metadata": {},
   "outputs": [
    {
     "name": "stdout",
     "output_type": "stream",
     "text": [
      "[1] 18\n",
      "[1] 18\n",
      "[1] 18\n",
      "[1] 18\n",
      "[1] 18\n"
     ]
    },
    {
     "data": {
      "text/html": [
       "72"
      ],
      "text/latex": [
       "72"
      ],
      "text/markdown": [
       "72"
      ],
      "text/plain": [
       "[1] 72"
      ]
     },
     "metadata": {},
     "output_type": "display_data"
    },
    {
     "data": {
      "text/html": [
       "<strong>png:</strong> 2"
      ],
      "text/latex": [
       "\\textbf{png:} 2"
      ],
      "text/markdown": [
       "**png:** 2"
      ],
      "text/plain": [
       "png \n",
       "  2 "
      ]
     },
     "metadata": {},
     "output_type": "display_data"
    }
   ],
   "source": [
    "n_18mos_WT_cells<- rownames(cd3_pos_cd8_neg@meta.data  %>% filter(age == \"18mos\", genotype == \"WT\"))\n",
    "n_18mos_cd70_cells<- rownames(cd3_pos_cd8_neg@meta.data  %>% filter(age == \"18mos\", genotype == \"CD70-/-\"))\n",
    "n_18mos_single_cells<- rownames(cd3_pos_cd8_neg@meta.data  %>% filter(age == \"18mos\", genotype == \"Bcl6tg/+\"))\n",
    "n_18mos_double_cells<- rownames(cd3_pos_cd8_neg@meta.data  %>% filter(age == \"18mos\", genotype == \"CD70-/-;Bcl6tg/+\"))\n",
    "\n",
    "cd3_pos_cd8_neg_mtx<- GetMatrixFromSeurat2(cd3_pos_cd8_neg, cd3_pos_cd8_neg_genes, \n",
    "                                          group = \"new_annotation\")\n",
    "\n",
    "cd3_pos_cd8_neg_mtx_18mos_WT<- GetMatrixFromSeurat2(cd3_pos_cd8_neg[,n_18mos_WT_cells], cd3_pos_cd8_neg_genes, \n",
    "                                          group = \"new_annotation\")\n",
    "\n",
    "cd3_pos_cd8_neg_mtx_18mos_cd70<- GetMatrixFromSeurat2(cd3_pos_cd8_neg[,n_18mos_cd70_cells], cd3_pos_cd8_neg_genes, \n",
    "                                          group = \"new_annotation\")\n",
    "\n",
    "cd3_pos_cd8_neg_mtx_18mos_single<- GetMatrixFromSeurat2(cd3_pos_cd8_neg[,n_18mos_single_cells], cd3_pos_cd8_neg_genes, \n",
    "                                          group = \"new_annotation\")\n",
    "\n",
    "cd3_pos_cd8_neg_mtx_18mos_double<- GetMatrixFromSeurat2(cd3_pos_cd8_neg[,n_18mos_double_cells], cd3_pos_cd8_neg_genes, \n",
    "                                          group = \"new_annotation\")\n",
    "\n",
    "cd3_pos_cd8_neg_combined<- cbind(cd3_pos_cd8_neg_mtx_18mos_WT$exp_mat,\n",
    "                        cd3_pos_cd8_neg_mtx_18mos_cd70$exp_mat,\n",
    "                        cd3_pos_cd8_neg_mtx_18mos_single$exp_mat,\n",
    "                        cd3_pos_cd8_neg_mtx_18mos_double$exp_mat)\n",
    "\n",
    "cd3_pos_cd8_neg_combined_scaled<- t(apply(cd3_pos_cd8_neg_combined, 1, scale))\n",
    "cd3_pos_cd8_neg_combined_scaled<- cd3_pos_cd8_neg_combined_scaled  %>% replace(is.na(.),0)\n",
    "# cd3_pos_cd8_neg_combined_scaled = cd3_pos_cd8_neg_combined_scaled[row_order(ht)  %>%  unlist(use.names = FALSE), ]\n",
    "\n",
    "\n",
    "ncol(cd3_pos_cd8_neg_combined_scaled)\n",
    "cd3_pos_cd8_neg_mtx_18mos_WT_scaled<-  cd3_pos_cd8_neg_combined_scaled[, 1:18]\n",
    "cd3_pos_cd8_neg_mtx_18mos_cd70_scaled<-  cd3_pos_cd8_neg_combined_scaled[, 19:36]\n",
    "cd3_pos_cd8_neg_mtx_18mos_single_scaled<-  cd3_pos_cd8_neg_combined_scaled[, 37:54]\n",
    "cd3_pos_cd8_neg_mtx_18mos_double_scaled<-  cd3_pos_cd8_neg_combined_scaled[, 55:72]\n",
    "\n",
    "colnames(cd3_pos_cd8_neg_mtx_18mos_WT_scaled)<- colnames(cd3_pos_cd8_neg_mtx$exp_mat)\n",
    "colnames(cd3_pos_cd8_neg_mtx_18mos_cd70_scaled)<- colnames(cd3_pos_cd8_neg_mtx$exp_mat)\n",
    "colnames(cd3_pos_cd8_neg_mtx_18mos_single_scaled)<- colnames(cd3_pos_cd8_neg_mtx$exp_mat)\n",
    "colnames(cd3_pos_cd8_neg_mtx_18mos_double_scaled)<- colnames(cd3_pos_cd8_neg_mtx$exp_mat)\n",
    "\n",
    "pdf(\"./results/figures/5_cd3_pos_cd8_neg_dotplot_final_annotation_18mos_by_genotype.pdf\", width = 20, height = 12)\n",
    "\n",
    "hp1<- MakeClusterDotPlot(exp_mat = cd3_pos_cd8_neg_mtx_18mos_WT_scaled,\n",
    "               percent_mat = cd3_pos_cd8_neg_mtx_18mos_WT$percent_mat, \n",
    "               col_fun = col_fun,\n",
    "               cluster_id = cluster_id,              \n",
    "               column_title = \"18mos WT\",\n",
    "               column_title_side = \"bottom\",\n",
    "               row_split = row_split,\n",
    "               row_names_font_size = 8, \n",
    "               column_ha = column_ha,\n",
    "               legend_dot_size = unit(2, \"mm\"),\n",
    "               show_row_dend =FALSE,\n",
    "               show_column_dend = FALSE,\n",
    "               column_names_side = \"top\",\n",
    "               cluster_rows = FALSE, cluster_columns = FALSE)\n",
    "\n",
    "hp2<- MakeClusterDotPlot(exp_mat = cd3_pos_cd8_neg_mtx_18mos_cd70_scaled, \n",
    "               percent_mat = cd3_pos_cd8_neg_mtx_18mos_cd70$percent_mat, \n",
    "               col_fun = col_fun, cluster_id = cluster_id,\n",
    "               column_title = \"18mos CD70-/-\",\n",
    "               column_title_side = \"bottom\",\n",
    "               row_split = row_split,\n",
    "               row_names_font_size = 8, \n",
    "               column_ha = column_ha,\n",
    "               legend_dot_size = unit(2, \"mm\"),\n",
    "               column_names_side = \"top\", cluster_rows = FALSE, cluster_columns = FALSE)\n",
    "\n",
    "hp3<- MakeClusterDotPlot(exp_mat = cd3_pos_cd8_neg_mtx_18mos_single_scaled, \n",
    "               percent_mat = cd3_pos_cd8_neg_mtx_18mos_single$percent_mat, \n",
    "               col_fun = col_fun, cluster_id = cluster_id,\n",
    "               column_title = \"18mos Bcl6tg/+\",\n",
    "               column_title_side = \"bottom\",         \n",
    "               row_split = row_split,\n",
    "               row_names_font_size = 8, \n",
    "               column_ha = column_ha,\n",
    "               legend_dot_size = unit(2, \"mm\"),\n",
    "               column_names_side = \"top\", cluster_rows = FALSE, cluster_columns = FALSE)\n",
    "\n",
    "hp4<- MakeClusterDotPlot(exp_mat = cd3_pos_cd8_neg_mtx_18mos_double_scaled, \n",
    "               percent_mat = cd3_pos_cd8_neg_mtx_18mos_double$percent_mat, \n",
    "               col_fun = col_fun, cluster_id = cluster_id,\n",
    "               column_title = \"18mos CD70-/-;Bcl6tg/+\",\n",
    "               column_title_side = \"bottom\",         \n",
    "               row_split = row_split,\n",
    "               row_names_font_size = 8, \n",
    "               column_ha = column_ha,\n",
    "               legend_dot_size = unit(2, \"mm\"),\n",
    "               column_names_side = \"top\", cluster_rows = FALSE, cluster_columns = FALSE)\n",
    "\n",
    "draw(hp1 + hp2 + hp3 + hp4 , annotation_legend_list = lgd, ht_gap = unit(1, \"cm\") )\n",
    "dev.off()"
   ]
  },
  {
   "cell_type": "markdown",
   "id": "cbb29390",
   "metadata": {},
   "source": [
    "- sick (Bcl6tg/+, CD70-/-;Bcl6tg/+)"
   ]
  },
  {
   "cell_type": "code",
   "execution_count": 34,
   "id": "bd9e6966",
   "metadata": {},
   "outputs": [
    {
     "name": "stdout",
     "output_type": "stream",
     "text": [
      "[1] 18\n",
      "[1] 18\n",
      "[1] 18\n"
     ]
    },
    {
     "data": {
      "text/html": [
       "36"
      ],
      "text/latex": [
       "36"
      ],
      "text/markdown": [
       "36"
      ],
      "text/plain": [
       "[1] 36"
      ]
     },
     "metadata": {},
     "output_type": "display_data"
    },
    {
     "data": {
      "text/html": [
       "<strong>png:</strong> 2"
      ],
      "text/latex": [
       "\\textbf{png:} 2"
      ],
      "text/markdown": [
       "**png:** 2"
      ],
      "text/plain": [
       "png \n",
       "  2 "
      ]
     },
     "metadata": {},
     "output_type": "display_data"
    }
   ],
   "source": [
    "n_sick_single_cells<- rownames(cd3_pos_cd8_neg@meta.data  %>% filter(age == \"sick\", genotype == \"Bcl6tg/+\"))\n",
    "n_sick_double_cells<- rownames(cd3_pos_cd8_neg@meta.data  %>% filter(age == \"sick\", genotype == \"CD70-/-;Bcl6tg/+\"))\n",
    "\n",
    "cd3_pos_cd8_neg_mtx<- GetMatrixFromSeurat2(cd3_pos_cd8_neg, cd3_pos_cd8_neg_genes, \n",
    "                                          group = \"new_annotation\")\n",
    "\n",
    "cd3_pos_cd8_neg_mtx_sick_single<- GetMatrixFromSeurat2(cd3_pos_cd8_neg[,n_sick_single_cells], cd3_pos_cd8_neg_genes, \n",
    "                                          group = \"new_annotation\")\n",
    "\n",
    "cd3_pos_cd8_neg_mtx_sick_double<- GetMatrixFromSeurat2(cd3_pos_cd8_neg[,n_sick_double_cells], cd3_pos_cd8_neg_genes, \n",
    "                                          group = \"new_annotation\")\n",
    "\n",
    "cd3_pos_cd8_neg_combined<- cbind(cd3_pos_cd8_neg_mtx_sick_single$exp_mat,\n",
    "                        cd3_pos_cd8_neg_mtx_sick_double$exp_mat)\n",
    "\n",
    "cd3_pos_cd8_neg_combined_scaled<- t(apply(cd3_pos_cd8_neg_combined, 1, scale))\n",
    "cd3_pos_cd8_neg_combined_scaled<- cd3_pos_cd8_neg_combined_scaled  %>% replace(is.na(.),0)\n",
    "# cd3_pos_cd8_neg_combined_scaled = cd3_pos_cd8_neg_combined_scaled[row_order(ht)  %>%  unlist(use.names = FALSE), ]\n",
    "\n",
    "\n",
    "ncol(cd3_pos_cd8_neg_combined_scaled)\n",
    "cd3_pos_cd8_neg_mtx_sick_single_scaled<-  cd3_pos_cd8_neg_combined_scaled[, 1:18]\n",
    "cd3_pos_cd8_neg_mtx_sick_double_scaled<-  cd3_pos_cd8_neg_combined_scaled[, 19:36]\n",
    "\n",
    "colnames(cd3_pos_cd8_neg_mtx_sick_single_scaled)<- colnames(cd3_pos_cd8_neg_mtx$exp_mat)\n",
    "colnames(cd3_pos_cd8_neg_mtx_sick_double_scaled)<- colnames(cd3_pos_cd8_neg_mtx$exp_mat)\n",
    "\n",
    "pdf(\"./results/figures/5_cd3_pos_cd8_neg_dotplot_final_annotation_sick_by_genotype.pdf\", width = 10, height = 12)\n",
    "\n",
    "hp1<- MakeClusterDotPlot(exp_mat = cd3_pos_cd8_neg_mtx_sick_single_scaled, \n",
    "               percent_mat = cd3_pos_cd8_neg_mtx_sick_single$percent_mat, \n",
    "               col_fun = col_fun, cluster_id = cluster_id,\n",
    "               column_title = \"sick Bcl6tg/+\",\n",
    "               column_title_side = \"bottom\",         \n",
    "               row_split = row_split,\n",
    "               row_names_font_size = 8, \n",
    "               column_ha = column_ha, \n",
    "               show_row_dend =FALSE,\n",
    "               show_column_dend = FALSE,\n",
    "               legend_dot_size = unit(2, \"mm\"),\n",
    "               column_names_side = \"top\", cluster_rows = FALSE, cluster_columns = FALSE)\n",
    "\n",
    "hp2<- MakeClusterDotPlot(exp_mat = cd3_pos_cd8_neg_mtx_sick_double_scaled, \n",
    "               percent_mat = cd3_pos_cd8_neg_mtx_sick_double$percent_mat, \n",
    "               col_fun = col_fun, cluster_id = cluster_id,\n",
    "               column_title = \"sick CD70-/-;Bcl6tg/+\",\n",
    "               column_title_side = \"bottom\",         \n",
    "               row_split = row_split,\n",
    "               row_names_font_size = 8, \n",
    "               column_ha = column_ha,\n",
    "               legend_dot_size = unit(2, \"mm\"),\n",
    "               column_names_side = \"top\", cluster_rows = FALSE, cluster_columns = FALSE)\n",
    "\n",
    "draw(hp1 + hp2 , annotation_legend_list = lgd, ht_gap = unit(1, \"cm\") )\n",
    "dev.off()"
   ]
  }
 ],
 "metadata": {
  "kernelspec": {
   "display_name": "R",
   "language": "R",
   "name": "ir"
  },
  "language_info": {
   "codemirror_mode": "r",
   "file_extension": ".r",
   "mimetype": "text/x-r-source",
   "name": "R",
   "pygments_lexer": "r",
   "version": "4.1.1"
  }
 },
 "nbformat": 4,
 "nbformat_minor": 5
}
